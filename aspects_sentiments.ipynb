{
  "nbformat": 4,
  "nbformat_minor": 0,
  "metadata": {
    "colab": {
      "provenance": [],
      "collapsed_sections": [
        "wdr67gnmo6Zb"
      ]
    },
    "kernelspec": {
      "name": "python3",
      "display_name": "Python 3"
    },
    "language_info": {
      "name": "python"
    },
    "widgets": {
      "application/vnd.jupyter.widget-state+json": {
        "ba5a51045bfa4f7cb185f577e8d90752": {
          "model_module": "@jupyter-widgets/controls",
          "model_name": "HBoxModel",
          "model_module_version": "1.5.0",
          "state": {
            "_dom_classes": [],
            "_model_module": "@jupyter-widgets/controls",
            "_model_module_version": "1.5.0",
            "_model_name": "HBoxModel",
            "_view_count": null,
            "_view_module": "@jupyter-widgets/controls",
            "_view_module_version": "1.5.0",
            "_view_name": "HBoxView",
            "box_style": "",
            "children": [
              "IPY_MODEL_57315c4aaa9e46dc841c301686a4defc",
              "IPY_MODEL_d4961995cb19456a973e48e057a85ac1",
              "IPY_MODEL_aa645ba44c7d45b099dd0d43c99693f3"
            ],
            "layout": "IPY_MODEL_384ee53ecc9f4087805ca5198bdab181"
          }
        },
        "57315c4aaa9e46dc841c301686a4defc": {
          "model_module": "@jupyter-widgets/controls",
          "model_name": "HTMLModel",
          "model_module_version": "1.5.0",
          "state": {
            "_dom_classes": [],
            "_model_module": "@jupyter-widgets/controls",
            "_model_module_version": "1.5.0",
            "_model_name": "HTMLModel",
            "_view_count": null,
            "_view_module": "@jupyter-widgets/controls",
            "_view_module_version": "1.5.0",
            "_view_name": "HTMLView",
            "description": "",
            "description_tooltip": null,
            "layout": "IPY_MODEL_17658bff618744148f089ecc76bf79e1",
            "placeholder": "​",
            "style": "IPY_MODEL_73dadae39d8c455998b4e7f4db6fb3aa",
            "value": "Downloading https://raw.githubusercontent.com/stanfordnlp/stanza-resources/main/resources_1.4.1.json: "
          }
        },
        "d4961995cb19456a973e48e057a85ac1": {
          "model_module": "@jupyter-widgets/controls",
          "model_name": "FloatProgressModel",
          "model_module_version": "1.5.0",
          "state": {
            "_dom_classes": [],
            "_model_module": "@jupyter-widgets/controls",
            "_model_module_version": "1.5.0",
            "_model_name": "FloatProgressModel",
            "_view_count": null,
            "_view_module": "@jupyter-widgets/controls",
            "_view_module_version": "1.5.0",
            "_view_name": "ProgressView",
            "bar_style": "success",
            "description": "",
            "description_tooltip": null,
            "layout": "IPY_MODEL_6f8fbffc69e1428180e239ba5c8c1c90",
            "max": 28918,
            "min": 0,
            "orientation": "horizontal",
            "style": "IPY_MODEL_677aa487372e4382aef1d14c0cd85668",
            "value": 28918
          }
        },
        "aa645ba44c7d45b099dd0d43c99693f3": {
          "model_module": "@jupyter-widgets/controls",
          "model_name": "HTMLModel",
          "model_module_version": "1.5.0",
          "state": {
            "_dom_classes": [],
            "_model_module": "@jupyter-widgets/controls",
            "_model_module_version": "1.5.0",
            "_model_name": "HTMLModel",
            "_view_count": null,
            "_view_module": "@jupyter-widgets/controls",
            "_view_module_version": "1.5.0",
            "_view_name": "HTMLView",
            "description": "",
            "description_tooltip": null,
            "layout": "IPY_MODEL_5b839273d6f94474a84644f6dfe0faca",
            "placeholder": "​",
            "style": "IPY_MODEL_c000e7d1ec7f491ea7e00d32020d2600",
            "value": " 193k/? [00:00&lt;00:00, 5.93MB/s]"
          }
        },
        "384ee53ecc9f4087805ca5198bdab181": {
          "model_module": "@jupyter-widgets/base",
          "model_name": "LayoutModel",
          "model_module_version": "1.2.0",
          "state": {
            "_model_module": "@jupyter-widgets/base",
            "_model_module_version": "1.2.0",
            "_model_name": "LayoutModel",
            "_view_count": null,
            "_view_module": "@jupyter-widgets/base",
            "_view_module_version": "1.2.0",
            "_view_name": "LayoutView",
            "align_content": null,
            "align_items": null,
            "align_self": null,
            "border": null,
            "bottom": null,
            "display": null,
            "flex": null,
            "flex_flow": null,
            "grid_area": null,
            "grid_auto_columns": null,
            "grid_auto_flow": null,
            "grid_auto_rows": null,
            "grid_column": null,
            "grid_gap": null,
            "grid_row": null,
            "grid_template_areas": null,
            "grid_template_columns": null,
            "grid_template_rows": null,
            "height": null,
            "justify_content": null,
            "justify_items": null,
            "left": null,
            "margin": null,
            "max_height": null,
            "max_width": null,
            "min_height": null,
            "min_width": null,
            "object_fit": null,
            "object_position": null,
            "order": null,
            "overflow": null,
            "overflow_x": null,
            "overflow_y": null,
            "padding": null,
            "right": null,
            "top": null,
            "visibility": null,
            "width": null
          }
        },
        "17658bff618744148f089ecc76bf79e1": {
          "model_module": "@jupyter-widgets/base",
          "model_name": "LayoutModel",
          "model_module_version": "1.2.0",
          "state": {
            "_model_module": "@jupyter-widgets/base",
            "_model_module_version": "1.2.0",
            "_model_name": "LayoutModel",
            "_view_count": null,
            "_view_module": "@jupyter-widgets/base",
            "_view_module_version": "1.2.0",
            "_view_name": "LayoutView",
            "align_content": null,
            "align_items": null,
            "align_self": null,
            "border": null,
            "bottom": null,
            "display": null,
            "flex": null,
            "flex_flow": null,
            "grid_area": null,
            "grid_auto_columns": null,
            "grid_auto_flow": null,
            "grid_auto_rows": null,
            "grid_column": null,
            "grid_gap": null,
            "grid_row": null,
            "grid_template_areas": null,
            "grid_template_columns": null,
            "grid_template_rows": null,
            "height": null,
            "justify_content": null,
            "justify_items": null,
            "left": null,
            "margin": null,
            "max_height": null,
            "max_width": null,
            "min_height": null,
            "min_width": null,
            "object_fit": null,
            "object_position": null,
            "order": null,
            "overflow": null,
            "overflow_x": null,
            "overflow_y": null,
            "padding": null,
            "right": null,
            "top": null,
            "visibility": null,
            "width": null
          }
        },
        "73dadae39d8c455998b4e7f4db6fb3aa": {
          "model_module": "@jupyter-widgets/controls",
          "model_name": "DescriptionStyleModel",
          "model_module_version": "1.5.0",
          "state": {
            "_model_module": "@jupyter-widgets/controls",
            "_model_module_version": "1.5.0",
            "_model_name": "DescriptionStyleModel",
            "_view_count": null,
            "_view_module": "@jupyter-widgets/base",
            "_view_module_version": "1.2.0",
            "_view_name": "StyleView",
            "description_width": ""
          }
        },
        "6f8fbffc69e1428180e239ba5c8c1c90": {
          "model_module": "@jupyter-widgets/base",
          "model_name": "LayoutModel",
          "model_module_version": "1.2.0",
          "state": {
            "_model_module": "@jupyter-widgets/base",
            "_model_module_version": "1.2.0",
            "_model_name": "LayoutModel",
            "_view_count": null,
            "_view_module": "@jupyter-widgets/base",
            "_view_module_version": "1.2.0",
            "_view_name": "LayoutView",
            "align_content": null,
            "align_items": null,
            "align_self": null,
            "border": null,
            "bottom": null,
            "display": null,
            "flex": null,
            "flex_flow": null,
            "grid_area": null,
            "grid_auto_columns": null,
            "grid_auto_flow": null,
            "grid_auto_rows": null,
            "grid_column": null,
            "grid_gap": null,
            "grid_row": null,
            "grid_template_areas": null,
            "grid_template_columns": null,
            "grid_template_rows": null,
            "height": null,
            "justify_content": null,
            "justify_items": null,
            "left": null,
            "margin": null,
            "max_height": null,
            "max_width": null,
            "min_height": null,
            "min_width": null,
            "object_fit": null,
            "object_position": null,
            "order": null,
            "overflow": null,
            "overflow_x": null,
            "overflow_y": null,
            "padding": null,
            "right": null,
            "top": null,
            "visibility": null,
            "width": null
          }
        },
        "677aa487372e4382aef1d14c0cd85668": {
          "model_module": "@jupyter-widgets/controls",
          "model_name": "ProgressStyleModel",
          "model_module_version": "1.5.0",
          "state": {
            "_model_module": "@jupyter-widgets/controls",
            "_model_module_version": "1.5.0",
            "_model_name": "ProgressStyleModel",
            "_view_count": null,
            "_view_module": "@jupyter-widgets/base",
            "_view_module_version": "1.2.0",
            "_view_name": "StyleView",
            "bar_color": null,
            "description_width": ""
          }
        },
        "5b839273d6f94474a84644f6dfe0faca": {
          "model_module": "@jupyter-widgets/base",
          "model_name": "LayoutModel",
          "model_module_version": "1.2.0",
          "state": {
            "_model_module": "@jupyter-widgets/base",
            "_model_module_version": "1.2.0",
            "_model_name": "LayoutModel",
            "_view_count": null,
            "_view_module": "@jupyter-widgets/base",
            "_view_module_version": "1.2.0",
            "_view_name": "LayoutView",
            "align_content": null,
            "align_items": null,
            "align_self": null,
            "border": null,
            "bottom": null,
            "display": null,
            "flex": null,
            "flex_flow": null,
            "grid_area": null,
            "grid_auto_columns": null,
            "grid_auto_flow": null,
            "grid_auto_rows": null,
            "grid_column": null,
            "grid_gap": null,
            "grid_row": null,
            "grid_template_areas": null,
            "grid_template_columns": null,
            "grid_template_rows": null,
            "height": null,
            "justify_content": null,
            "justify_items": null,
            "left": null,
            "margin": null,
            "max_height": null,
            "max_width": null,
            "min_height": null,
            "min_width": null,
            "object_fit": null,
            "object_position": null,
            "order": null,
            "overflow": null,
            "overflow_x": null,
            "overflow_y": null,
            "padding": null,
            "right": null,
            "top": null,
            "visibility": null,
            "width": null
          }
        },
        "c000e7d1ec7f491ea7e00d32020d2600": {
          "model_module": "@jupyter-widgets/controls",
          "model_name": "DescriptionStyleModel",
          "model_module_version": "1.5.0",
          "state": {
            "_model_module": "@jupyter-widgets/controls",
            "_model_module_version": "1.5.0",
            "_model_name": "DescriptionStyleModel",
            "_view_count": null,
            "_view_module": "@jupyter-widgets/base",
            "_view_module_version": "1.2.0",
            "_view_name": "StyleView",
            "description_width": ""
          }
        },
        "271172bcb3f74b7f800e23f57c586688": {
          "model_module": "@jupyter-widgets/controls",
          "model_name": "HBoxModel",
          "model_module_version": "1.5.0",
          "state": {
            "_dom_classes": [],
            "_model_module": "@jupyter-widgets/controls",
            "_model_module_version": "1.5.0",
            "_model_name": "HBoxModel",
            "_view_count": null,
            "_view_module": "@jupyter-widgets/controls",
            "_view_module_version": "1.5.0",
            "_view_name": "HBoxView",
            "box_style": "",
            "children": [
              "IPY_MODEL_91c12e916700430ca05c1fe109b6e563",
              "IPY_MODEL_7f77b9fdba3c4caa820ced4210ecb1b0",
              "IPY_MODEL_6a430fbeb1654649aa01f43839e0c852"
            ],
            "layout": "IPY_MODEL_eaabe9a65fcc44e0a366e0158adc2250"
          }
        },
        "91c12e916700430ca05c1fe109b6e563": {
          "model_module": "@jupyter-widgets/controls",
          "model_name": "HTMLModel",
          "model_module_version": "1.5.0",
          "state": {
            "_dom_classes": [],
            "_model_module": "@jupyter-widgets/controls",
            "_model_module_version": "1.5.0",
            "_model_name": "HTMLModel",
            "_view_count": null,
            "_view_module": "@jupyter-widgets/controls",
            "_view_module_version": "1.5.0",
            "_view_name": "HTMLView",
            "description": "",
            "description_tooltip": null,
            "layout": "IPY_MODEL_cf5bb84233614f87844edea1bfbf9153",
            "placeholder": "​",
            "style": "IPY_MODEL_6a4bcf9394ef4c64bfc13d79ffa321a1",
            "value": "Downloading https://huggingface.co/stanfordnlp/stanza-ru/resolve/v1.4.1/models/default.zip: 100%"
          }
        },
        "7f77b9fdba3c4caa820ced4210ecb1b0": {
          "model_module": "@jupyter-widgets/controls",
          "model_name": "FloatProgressModel",
          "model_module_version": "1.5.0",
          "state": {
            "_dom_classes": [],
            "_model_module": "@jupyter-widgets/controls",
            "_model_module_version": "1.5.0",
            "_model_name": "FloatProgressModel",
            "_view_count": null,
            "_view_module": "@jupyter-widgets/controls",
            "_view_module_version": "1.5.0",
            "_view_name": "ProgressView",
            "bar_style": "success",
            "description": "",
            "description_tooltip": null,
            "layout": "IPY_MODEL_aa3ac003495a4edcb0d0bcd69d561775",
            "max": 597217093,
            "min": 0,
            "orientation": "horizontal",
            "style": "IPY_MODEL_34bd765912cf447d9eeb378c979ba307",
            "value": 597217093
          }
        },
        "6a430fbeb1654649aa01f43839e0c852": {
          "model_module": "@jupyter-widgets/controls",
          "model_name": "HTMLModel",
          "model_module_version": "1.5.0",
          "state": {
            "_dom_classes": [],
            "_model_module": "@jupyter-widgets/controls",
            "_model_module_version": "1.5.0",
            "_model_name": "HTMLModel",
            "_view_count": null,
            "_view_module": "@jupyter-widgets/controls",
            "_view_module_version": "1.5.0",
            "_view_name": "HTMLView",
            "description": "",
            "description_tooltip": null,
            "layout": "IPY_MODEL_6856aea69cbb4b248175e45e012c401b",
            "placeholder": "​",
            "style": "IPY_MODEL_48a08c79b9ea4cba823b04d69e977e74",
            "value": " 597M/597M [00:11&lt;00:00, 41.9MB/s]"
          }
        },
        "eaabe9a65fcc44e0a366e0158adc2250": {
          "model_module": "@jupyter-widgets/base",
          "model_name": "LayoutModel",
          "model_module_version": "1.2.0",
          "state": {
            "_model_module": "@jupyter-widgets/base",
            "_model_module_version": "1.2.0",
            "_model_name": "LayoutModel",
            "_view_count": null,
            "_view_module": "@jupyter-widgets/base",
            "_view_module_version": "1.2.0",
            "_view_name": "LayoutView",
            "align_content": null,
            "align_items": null,
            "align_self": null,
            "border": null,
            "bottom": null,
            "display": null,
            "flex": null,
            "flex_flow": null,
            "grid_area": null,
            "grid_auto_columns": null,
            "grid_auto_flow": null,
            "grid_auto_rows": null,
            "grid_column": null,
            "grid_gap": null,
            "grid_row": null,
            "grid_template_areas": null,
            "grid_template_columns": null,
            "grid_template_rows": null,
            "height": null,
            "justify_content": null,
            "justify_items": null,
            "left": null,
            "margin": null,
            "max_height": null,
            "max_width": null,
            "min_height": null,
            "min_width": null,
            "object_fit": null,
            "object_position": null,
            "order": null,
            "overflow": null,
            "overflow_x": null,
            "overflow_y": null,
            "padding": null,
            "right": null,
            "top": null,
            "visibility": null,
            "width": null
          }
        },
        "cf5bb84233614f87844edea1bfbf9153": {
          "model_module": "@jupyter-widgets/base",
          "model_name": "LayoutModel",
          "model_module_version": "1.2.0",
          "state": {
            "_model_module": "@jupyter-widgets/base",
            "_model_module_version": "1.2.0",
            "_model_name": "LayoutModel",
            "_view_count": null,
            "_view_module": "@jupyter-widgets/base",
            "_view_module_version": "1.2.0",
            "_view_name": "LayoutView",
            "align_content": null,
            "align_items": null,
            "align_self": null,
            "border": null,
            "bottom": null,
            "display": null,
            "flex": null,
            "flex_flow": null,
            "grid_area": null,
            "grid_auto_columns": null,
            "grid_auto_flow": null,
            "grid_auto_rows": null,
            "grid_column": null,
            "grid_gap": null,
            "grid_row": null,
            "grid_template_areas": null,
            "grid_template_columns": null,
            "grid_template_rows": null,
            "height": null,
            "justify_content": null,
            "justify_items": null,
            "left": null,
            "margin": null,
            "max_height": null,
            "max_width": null,
            "min_height": null,
            "min_width": null,
            "object_fit": null,
            "object_position": null,
            "order": null,
            "overflow": null,
            "overflow_x": null,
            "overflow_y": null,
            "padding": null,
            "right": null,
            "top": null,
            "visibility": null,
            "width": null
          }
        },
        "6a4bcf9394ef4c64bfc13d79ffa321a1": {
          "model_module": "@jupyter-widgets/controls",
          "model_name": "DescriptionStyleModel",
          "model_module_version": "1.5.0",
          "state": {
            "_model_module": "@jupyter-widgets/controls",
            "_model_module_version": "1.5.0",
            "_model_name": "DescriptionStyleModel",
            "_view_count": null,
            "_view_module": "@jupyter-widgets/base",
            "_view_module_version": "1.2.0",
            "_view_name": "StyleView",
            "description_width": ""
          }
        },
        "aa3ac003495a4edcb0d0bcd69d561775": {
          "model_module": "@jupyter-widgets/base",
          "model_name": "LayoutModel",
          "model_module_version": "1.2.0",
          "state": {
            "_model_module": "@jupyter-widgets/base",
            "_model_module_version": "1.2.0",
            "_model_name": "LayoutModel",
            "_view_count": null,
            "_view_module": "@jupyter-widgets/base",
            "_view_module_version": "1.2.0",
            "_view_name": "LayoutView",
            "align_content": null,
            "align_items": null,
            "align_self": null,
            "border": null,
            "bottom": null,
            "display": null,
            "flex": null,
            "flex_flow": null,
            "grid_area": null,
            "grid_auto_columns": null,
            "grid_auto_flow": null,
            "grid_auto_rows": null,
            "grid_column": null,
            "grid_gap": null,
            "grid_row": null,
            "grid_template_areas": null,
            "grid_template_columns": null,
            "grid_template_rows": null,
            "height": null,
            "justify_content": null,
            "justify_items": null,
            "left": null,
            "margin": null,
            "max_height": null,
            "max_width": null,
            "min_height": null,
            "min_width": null,
            "object_fit": null,
            "object_position": null,
            "order": null,
            "overflow": null,
            "overflow_x": null,
            "overflow_y": null,
            "padding": null,
            "right": null,
            "top": null,
            "visibility": null,
            "width": null
          }
        },
        "34bd765912cf447d9eeb378c979ba307": {
          "model_module": "@jupyter-widgets/controls",
          "model_name": "ProgressStyleModel",
          "model_module_version": "1.5.0",
          "state": {
            "_model_module": "@jupyter-widgets/controls",
            "_model_module_version": "1.5.0",
            "_model_name": "ProgressStyleModel",
            "_view_count": null,
            "_view_module": "@jupyter-widgets/base",
            "_view_module_version": "1.2.0",
            "_view_name": "StyleView",
            "bar_color": null,
            "description_width": ""
          }
        },
        "6856aea69cbb4b248175e45e012c401b": {
          "model_module": "@jupyter-widgets/base",
          "model_name": "LayoutModel",
          "model_module_version": "1.2.0",
          "state": {
            "_model_module": "@jupyter-widgets/base",
            "_model_module_version": "1.2.0",
            "_model_name": "LayoutModel",
            "_view_count": null,
            "_view_module": "@jupyter-widgets/base",
            "_view_module_version": "1.2.0",
            "_view_name": "LayoutView",
            "align_content": null,
            "align_items": null,
            "align_self": null,
            "border": null,
            "bottom": null,
            "display": null,
            "flex": null,
            "flex_flow": null,
            "grid_area": null,
            "grid_auto_columns": null,
            "grid_auto_flow": null,
            "grid_auto_rows": null,
            "grid_column": null,
            "grid_gap": null,
            "grid_row": null,
            "grid_template_areas": null,
            "grid_template_columns": null,
            "grid_template_rows": null,
            "height": null,
            "justify_content": null,
            "justify_items": null,
            "left": null,
            "margin": null,
            "max_height": null,
            "max_width": null,
            "min_height": null,
            "min_width": null,
            "object_fit": null,
            "object_position": null,
            "order": null,
            "overflow": null,
            "overflow_x": null,
            "overflow_y": null,
            "padding": null,
            "right": null,
            "top": null,
            "visibility": null,
            "width": null
          }
        },
        "48a08c79b9ea4cba823b04d69e977e74": {
          "model_module": "@jupyter-widgets/controls",
          "model_name": "DescriptionStyleModel",
          "model_module_version": "1.5.0",
          "state": {
            "_model_module": "@jupyter-widgets/controls",
            "_model_module_version": "1.5.0",
            "_model_name": "DescriptionStyleModel",
            "_view_count": null,
            "_view_module": "@jupyter-widgets/base",
            "_view_module_version": "1.2.0",
            "_view_name": "StyleView",
            "description_width": ""
          }
        },
        "41b2caf8a0094656997bb1da5511b4f6": {
          "model_module": "@jupyter-widgets/controls",
          "model_name": "HBoxModel",
          "model_module_version": "1.5.0",
          "state": {
            "_dom_classes": [],
            "_model_module": "@jupyter-widgets/controls",
            "_model_module_version": "1.5.0",
            "_model_name": "HBoxModel",
            "_view_count": null,
            "_view_module": "@jupyter-widgets/controls",
            "_view_module_version": "1.5.0",
            "_view_name": "HBoxView",
            "box_style": "",
            "children": [
              "IPY_MODEL_8de7ef2350704231bc7af96b0b6e7d7e",
              "IPY_MODEL_91ec7a0990d24f6da8fee244b1c38d93",
              "IPY_MODEL_fdc596432de546e0bf8d0987e42fc9f1"
            ],
            "layout": "IPY_MODEL_bd7de5973b084316a5e9e5374a3ddca5"
          }
        },
        "8de7ef2350704231bc7af96b0b6e7d7e": {
          "model_module": "@jupyter-widgets/controls",
          "model_name": "HTMLModel",
          "model_module_version": "1.5.0",
          "state": {
            "_dom_classes": [],
            "_model_module": "@jupyter-widgets/controls",
            "_model_module_version": "1.5.0",
            "_model_name": "HTMLModel",
            "_view_count": null,
            "_view_module": "@jupyter-widgets/controls",
            "_view_module_version": "1.5.0",
            "_view_name": "HTMLView",
            "description": "",
            "description_tooltip": null,
            "layout": "IPY_MODEL_d198a982364442b4b332032ea02deffe",
            "placeholder": "​",
            "style": "IPY_MODEL_0d341bf79e5748f783b2908820be6e14",
            "value": "Downloading https://raw.githubusercontent.com/stanfordnlp/stanza-resources/main/resources_1.4.1.json: "
          }
        },
        "91ec7a0990d24f6da8fee244b1c38d93": {
          "model_module": "@jupyter-widgets/controls",
          "model_name": "FloatProgressModel",
          "model_module_version": "1.5.0",
          "state": {
            "_dom_classes": [],
            "_model_module": "@jupyter-widgets/controls",
            "_model_module_version": "1.5.0",
            "_model_name": "FloatProgressModel",
            "_view_count": null,
            "_view_module": "@jupyter-widgets/controls",
            "_view_module_version": "1.5.0",
            "_view_name": "ProgressView",
            "bar_style": "success",
            "description": "",
            "description_tooltip": null,
            "layout": "IPY_MODEL_0a28ec444f544a0899b5ec094779e18e",
            "max": 28918,
            "min": 0,
            "orientation": "horizontal",
            "style": "IPY_MODEL_d6f43e36d00f4d9782c28820ed3b9f9a",
            "value": 28918
          }
        },
        "fdc596432de546e0bf8d0987e42fc9f1": {
          "model_module": "@jupyter-widgets/controls",
          "model_name": "HTMLModel",
          "model_module_version": "1.5.0",
          "state": {
            "_dom_classes": [],
            "_model_module": "@jupyter-widgets/controls",
            "_model_module_version": "1.5.0",
            "_model_name": "HTMLModel",
            "_view_count": null,
            "_view_module": "@jupyter-widgets/controls",
            "_view_module_version": "1.5.0",
            "_view_name": "HTMLView",
            "description": "",
            "description_tooltip": null,
            "layout": "IPY_MODEL_1de45a8ae8e2413d8aaf2d8f2fbbade9",
            "placeholder": "​",
            "style": "IPY_MODEL_032ab0815eab4c2481f8f439b6d8cd78",
            "value": " 193k/? [00:00&lt;00:00, 1.99MB/s]"
          }
        },
        "bd7de5973b084316a5e9e5374a3ddca5": {
          "model_module": "@jupyter-widgets/base",
          "model_name": "LayoutModel",
          "model_module_version": "1.2.0",
          "state": {
            "_model_module": "@jupyter-widgets/base",
            "_model_module_version": "1.2.0",
            "_model_name": "LayoutModel",
            "_view_count": null,
            "_view_module": "@jupyter-widgets/base",
            "_view_module_version": "1.2.0",
            "_view_name": "LayoutView",
            "align_content": null,
            "align_items": null,
            "align_self": null,
            "border": null,
            "bottom": null,
            "display": null,
            "flex": null,
            "flex_flow": null,
            "grid_area": null,
            "grid_auto_columns": null,
            "grid_auto_flow": null,
            "grid_auto_rows": null,
            "grid_column": null,
            "grid_gap": null,
            "grid_row": null,
            "grid_template_areas": null,
            "grid_template_columns": null,
            "grid_template_rows": null,
            "height": null,
            "justify_content": null,
            "justify_items": null,
            "left": null,
            "margin": null,
            "max_height": null,
            "max_width": null,
            "min_height": null,
            "min_width": null,
            "object_fit": null,
            "object_position": null,
            "order": null,
            "overflow": null,
            "overflow_x": null,
            "overflow_y": null,
            "padding": null,
            "right": null,
            "top": null,
            "visibility": null,
            "width": null
          }
        },
        "d198a982364442b4b332032ea02deffe": {
          "model_module": "@jupyter-widgets/base",
          "model_name": "LayoutModel",
          "model_module_version": "1.2.0",
          "state": {
            "_model_module": "@jupyter-widgets/base",
            "_model_module_version": "1.2.0",
            "_model_name": "LayoutModel",
            "_view_count": null,
            "_view_module": "@jupyter-widgets/base",
            "_view_module_version": "1.2.0",
            "_view_name": "LayoutView",
            "align_content": null,
            "align_items": null,
            "align_self": null,
            "border": null,
            "bottom": null,
            "display": null,
            "flex": null,
            "flex_flow": null,
            "grid_area": null,
            "grid_auto_columns": null,
            "grid_auto_flow": null,
            "grid_auto_rows": null,
            "grid_column": null,
            "grid_gap": null,
            "grid_row": null,
            "grid_template_areas": null,
            "grid_template_columns": null,
            "grid_template_rows": null,
            "height": null,
            "justify_content": null,
            "justify_items": null,
            "left": null,
            "margin": null,
            "max_height": null,
            "max_width": null,
            "min_height": null,
            "min_width": null,
            "object_fit": null,
            "object_position": null,
            "order": null,
            "overflow": null,
            "overflow_x": null,
            "overflow_y": null,
            "padding": null,
            "right": null,
            "top": null,
            "visibility": null,
            "width": null
          }
        },
        "0d341bf79e5748f783b2908820be6e14": {
          "model_module": "@jupyter-widgets/controls",
          "model_name": "DescriptionStyleModel",
          "model_module_version": "1.5.0",
          "state": {
            "_model_module": "@jupyter-widgets/controls",
            "_model_module_version": "1.5.0",
            "_model_name": "DescriptionStyleModel",
            "_view_count": null,
            "_view_module": "@jupyter-widgets/base",
            "_view_module_version": "1.2.0",
            "_view_name": "StyleView",
            "description_width": ""
          }
        },
        "0a28ec444f544a0899b5ec094779e18e": {
          "model_module": "@jupyter-widgets/base",
          "model_name": "LayoutModel",
          "model_module_version": "1.2.0",
          "state": {
            "_model_module": "@jupyter-widgets/base",
            "_model_module_version": "1.2.0",
            "_model_name": "LayoutModel",
            "_view_count": null,
            "_view_module": "@jupyter-widgets/base",
            "_view_module_version": "1.2.0",
            "_view_name": "LayoutView",
            "align_content": null,
            "align_items": null,
            "align_self": null,
            "border": null,
            "bottom": null,
            "display": null,
            "flex": null,
            "flex_flow": null,
            "grid_area": null,
            "grid_auto_columns": null,
            "grid_auto_flow": null,
            "grid_auto_rows": null,
            "grid_column": null,
            "grid_gap": null,
            "grid_row": null,
            "grid_template_areas": null,
            "grid_template_columns": null,
            "grid_template_rows": null,
            "height": null,
            "justify_content": null,
            "justify_items": null,
            "left": null,
            "margin": null,
            "max_height": null,
            "max_width": null,
            "min_height": null,
            "min_width": null,
            "object_fit": null,
            "object_position": null,
            "order": null,
            "overflow": null,
            "overflow_x": null,
            "overflow_y": null,
            "padding": null,
            "right": null,
            "top": null,
            "visibility": null,
            "width": null
          }
        },
        "d6f43e36d00f4d9782c28820ed3b9f9a": {
          "model_module": "@jupyter-widgets/controls",
          "model_name": "ProgressStyleModel",
          "model_module_version": "1.5.0",
          "state": {
            "_model_module": "@jupyter-widgets/controls",
            "_model_module_version": "1.5.0",
            "_model_name": "ProgressStyleModel",
            "_view_count": null,
            "_view_module": "@jupyter-widgets/base",
            "_view_module_version": "1.2.0",
            "_view_name": "StyleView",
            "bar_color": null,
            "description_width": ""
          }
        },
        "1de45a8ae8e2413d8aaf2d8f2fbbade9": {
          "model_module": "@jupyter-widgets/base",
          "model_name": "LayoutModel",
          "model_module_version": "1.2.0",
          "state": {
            "_model_module": "@jupyter-widgets/base",
            "_model_module_version": "1.2.0",
            "_model_name": "LayoutModel",
            "_view_count": null,
            "_view_module": "@jupyter-widgets/base",
            "_view_module_version": "1.2.0",
            "_view_name": "LayoutView",
            "align_content": null,
            "align_items": null,
            "align_self": null,
            "border": null,
            "bottom": null,
            "display": null,
            "flex": null,
            "flex_flow": null,
            "grid_area": null,
            "grid_auto_columns": null,
            "grid_auto_flow": null,
            "grid_auto_rows": null,
            "grid_column": null,
            "grid_gap": null,
            "grid_row": null,
            "grid_template_areas": null,
            "grid_template_columns": null,
            "grid_template_rows": null,
            "height": null,
            "justify_content": null,
            "justify_items": null,
            "left": null,
            "margin": null,
            "max_height": null,
            "max_width": null,
            "min_height": null,
            "min_width": null,
            "object_fit": null,
            "object_position": null,
            "order": null,
            "overflow": null,
            "overflow_x": null,
            "overflow_y": null,
            "padding": null,
            "right": null,
            "top": null,
            "visibility": null,
            "width": null
          }
        },
        "032ab0815eab4c2481f8f439b6d8cd78": {
          "model_module": "@jupyter-widgets/controls",
          "model_name": "DescriptionStyleModel",
          "model_module_version": "1.5.0",
          "state": {
            "_model_module": "@jupyter-widgets/controls",
            "_model_module_version": "1.5.0",
            "_model_name": "DescriptionStyleModel",
            "_view_count": null,
            "_view_module": "@jupyter-widgets/base",
            "_view_module_version": "1.2.0",
            "_view_name": "StyleView",
            "description_width": ""
          }
        }
      }
    }
  },
  "cells": [
    {
      "cell_type": "markdown",
      "source": [
        "# Установка библиотек и скачивание данных"
      ],
      "metadata": {
        "id": "wdr67gnmo6Zb"
      }
    },
    {
      "cell_type": "code",
      "execution_count": 1,
      "metadata": {
        "colab": {
          "base_uri": "https://localhost:8080/"
        },
        "id": "fpT1jVnsoOUX",
        "outputId": "71c73809-0175-42da-90bd-54205e9e9de5"
      },
      "outputs": [
        {
          "output_type": "stream",
          "name": "stdout",
          "text": [
            "Looking in indexes: https://pypi.org/simple, https://us-python.pkg.dev/colab-wheels/public/simple/\n",
            "Collecting corus\n",
            "  Downloading corus-0.9.0-py3-none-any.whl (83 kB)\n",
            "\u001b[K     |████████████████████████████████| 83 kB 1.6 MB/s \n",
            "\u001b[?25hInstalling collected packages: corus\n",
            "Successfully installed corus-0.9.0\n"
          ]
        }
      ],
      "source": [
        "!pip install corus"
      ]
    },
    {
      "cell_type": "code",
      "source": [
        "!pip install -U 'scikit-learn<0.24'"
      ],
      "metadata": {
        "id": "HfRP87K1atES",
        "colab": {
          "base_uri": "https://localhost:8080/"
        },
        "outputId": "d83754b4-b559-4238-c4cb-26a3ffac13c8"
      },
      "execution_count": 2,
      "outputs": [
        {
          "output_type": "stream",
          "name": "stdout",
          "text": [
            "Looking in indexes: https://pypi.org/simple, https://us-python.pkg.dev/colab-wheels/public/simple/\n",
            "Collecting scikit-learn<0.24\n",
            "  Downloading scikit_learn-0.23.2-cp38-cp38-manylinux1_x86_64.whl (6.8 MB)\n",
            "\u001b[K     |████████████████████████████████| 6.8 MB 5.2 MB/s \n",
            "\u001b[?25hRequirement already satisfied: joblib>=0.11 in /usr/local/lib/python3.8/dist-packages (from scikit-learn<0.24) (1.2.0)\n",
            "Requirement already satisfied: threadpoolctl>=2.0.0 in /usr/local/lib/python3.8/dist-packages (from scikit-learn<0.24) (3.1.0)\n",
            "Requirement already satisfied: numpy>=1.13.3 in /usr/local/lib/python3.8/dist-packages (from scikit-learn<0.24) (1.21.6)\n",
            "Requirement already satisfied: scipy>=0.19.1 in /usr/local/lib/python3.8/dist-packages (from scikit-learn<0.24) (1.7.3)\n",
            "Installing collected packages: scikit-learn\n",
            "  Attempting uninstall: scikit-learn\n",
            "    Found existing installation: scikit-learn 1.0.2\n",
            "    Uninstalling scikit-learn-1.0.2:\n",
            "      Successfully uninstalled scikit-learn-1.0.2\n",
            "\u001b[31mERROR: pip's dependency resolver does not currently take into account all the packages that are installed. This behaviour is the source of the following dependency conflicts.\n",
            "yellowbrick 1.5 requires scikit-learn>=1.0.0, but you have scikit-learn 0.23.2 which is incompatible.\n",
            "imbalanced-learn 0.8.1 requires scikit-learn>=0.24, but you have scikit-learn 0.23.2 which is incompatible.\u001b[0m\n",
            "Successfully installed scikit-learn-0.23.2\n"
          ]
        }
      ]
    },
    {
      "cell_type": "code",
      "source": [
        "!wget https://github.com/named-entity/hse-nlp/raw/master/4th_year/Project/train_aspects.txt\n",
        "!wget https://github.com/named-entity/hse-nlp/raw/master/4th_year/Project/train_reviews.txt\n",
        "!wget https://github.com/named-entity/hse-nlp/raw/master/4th_year/Project/train_split_aspects.txt\n",
        "!wget https://github.com/named-entity/hse-nlp/raw/master/4th_year/Project/train_split_reviews.txt\n",
        "!wget https://raw.githubusercontent.com/named-entity/hse-nlp/master/4th_year/Project/train_cats.txt\n",
        "!wget https://raw.githubusercontent.com/named-entity/hse-nlp/master/4th_year/Project/train_split_cats.txt"
      ],
      "metadata": {
        "colab": {
          "base_uri": "https://localhost:8080/"
        },
        "id": "7vgQELyDPruP",
        "outputId": "d9fa4fac-173d-4527-8cee-eb519ad7274a"
      },
      "execution_count": 3,
      "outputs": [
        {
          "output_type": "stream",
          "name": "stdout",
          "text": [
            "--2022-12-28 03:27:23--  https://github.com/named-entity/hse-nlp/raw/master/4th_year/Project/train_aspects.txt\n",
            "Resolving github.com (github.com)... 140.82.113.4\n",
            "Connecting to github.com (github.com)|140.82.113.4|:443... connected.\n",
            "HTTP request sent, awaiting response... 302 Found\n",
            "Location: https://raw.githubusercontent.com/named-entity/hse-nlp/master/4th_year/Project/train_aspects.txt [following]\n",
            "--2022-12-28 03:27:23--  https://raw.githubusercontent.com/named-entity/hse-nlp/master/4th_year/Project/train_aspects.txt\n",
            "Resolving raw.githubusercontent.com (raw.githubusercontent.com)... 185.199.108.133, 185.199.109.133, 185.199.110.133, ...\n",
            "Connecting to raw.githubusercontent.com (raw.githubusercontent.com)|185.199.108.133|:443... connected.\n",
            "HTTP request sent, awaiting response... 200 OK\n",
            "Length: 228391 (223K) [text/plain]\n",
            "Saving to: ‘train_aspects.txt’\n",
            "\n",
            "train_aspects.txt   100%[===================>] 223.04K  --.-KB/s    in 0.03s   \n",
            "\n",
            "2022-12-28 03:27:23 (8.52 MB/s) - ‘train_aspects.txt’ saved [228391/228391]\n",
            "\n",
            "--2022-12-28 03:27:23--  https://github.com/named-entity/hse-nlp/raw/master/4th_year/Project/train_reviews.txt\n",
            "Resolving github.com (github.com)... 140.82.113.4\n",
            "Connecting to github.com (github.com)|140.82.113.4|:443... connected.\n",
            "HTTP request sent, awaiting response... 302 Found\n",
            "Location: https://raw.githubusercontent.com/named-entity/hse-nlp/master/4th_year/Project/train_reviews.txt [following]\n",
            "--2022-12-28 03:27:23--  https://raw.githubusercontent.com/named-entity/hse-nlp/master/4th_year/Project/train_reviews.txt\n",
            "Resolving raw.githubusercontent.com (raw.githubusercontent.com)... 185.199.108.133, 185.199.109.133, 185.199.110.133, ...\n",
            "Connecting to raw.githubusercontent.com (raw.githubusercontent.com)|185.199.108.133|:443... connected.\n",
            "HTTP request sent, awaiting response... 200 OK\n",
            "Length: 446118 (436K) [text/plain]\n",
            "Saving to: ‘train_reviews.txt’\n",
            "\n",
            "train_reviews.txt   100%[===================>] 435.66K  --.-KB/s    in 0.04s   \n",
            "\n",
            "2022-12-28 03:27:23 (11.9 MB/s) - ‘train_reviews.txt’ saved [446118/446118]\n",
            "\n",
            "--2022-12-28 03:27:23--  https://github.com/named-entity/hse-nlp/raw/master/4th_year/Project/train_split_aspects.txt\n",
            "Resolving github.com (github.com)... 140.82.113.4\n",
            "Connecting to github.com (github.com)|140.82.113.4|:443... connected.\n",
            "HTTP request sent, awaiting response... 302 Found\n",
            "Location: https://raw.githubusercontent.com/named-entity/hse-nlp/master/4th_year/Project/train_split_aspects.txt [following]\n",
            "--2022-12-28 03:27:23--  https://raw.githubusercontent.com/named-entity/hse-nlp/master/4th_year/Project/train_split_aspects.txt\n",
            "Resolving raw.githubusercontent.com (raw.githubusercontent.com)... 185.199.108.133, 185.199.109.133, 185.199.110.133, ...\n",
            "Connecting to raw.githubusercontent.com (raw.githubusercontent.com)|185.199.108.133|:443... connected.\n",
            "HTTP request sent, awaiting response... 200 OK\n",
            "Length: 170883 (167K) [text/plain]\n",
            "Saving to: ‘train_split_aspects.txt’\n",
            "\n",
            "train_split_aspects 100%[===================>] 166.88K  --.-KB/s    in 0.02s   \n",
            "\n",
            "2022-12-28 03:27:24 (6.80 MB/s) - ‘train_split_aspects.txt’ saved [170883/170883]\n",
            "\n",
            "--2022-12-28 03:27:24--  https://github.com/named-entity/hse-nlp/raw/master/4th_year/Project/train_split_reviews.txt\n",
            "Resolving github.com (github.com)... 140.82.113.4\n",
            "Connecting to github.com (github.com)|140.82.113.4|:443... connected.\n",
            "HTTP request sent, awaiting response... 302 Found\n",
            "Location: https://raw.githubusercontent.com/named-entity/hse-nlp/master/4th_year/Project/train_split_reviews.txt [following]\n",
            "--2022-12-28 03:27:24--  https://raw.githubusercontent.com/named-entity/hse-nlp/master/4th_year/Project/train_split_reviews.txt\n",
            "Resolving raw.githubusercontent.com (raw.githubusercontent.com)... 185.199.108.133, 185.199.109.133, 185.199.110.133, ...\n",
            "Connecting to raw.githubusercontent.com (raw.githubusercontent.com)|185.199.108.133|:443... connected.\n",
            "HTTP request sent, awaiting response... 200 OK\n",
            "Length: 335603 (328K) [text/plain]\n",
            "Saving to: ‘train_split_reviews.txt’\n",
            "\n",
            "train_split_reviews 100%[===================>] 327.74K  --.-KB/s    in 0.03s   \n",
            "\n",
            "2022-12-28 03:27:24 (9.57 MB/s) - ‘train_split_reviews.txt’ saved [335603/335603]\n",
            "\n",
            "--2022-12-28 03:27:24--  https://raw.githubusercontent.com/named-entity/hse-nlp/master/4th_year/Project/train_cats.txt\n",
            "Resolving raw.githubusercontent.com (raw.githubusercontent.com)... 185.199.109.133, 185.199.110.133, 185.199.111.133, ...\n",
            "Connecting to raw.githubusercontent.com (raw.githubusercontent.com)|185.199.109.133|:443... connected.\n",
            "HTTP request sent, awaiting response... 200 OK\n",
            "Length: 29515 (29K) [text/plain]\n",
            "Saving to: ‘train_cats.txt’\n",
            "\n",
            "train_cats.txt      100%[===================>]  28.82K  --.-KB/s    in 0.002s  \n",
            "\n",
            "2022-12-28 03:27:24 (12.4 MB/s) - ‘train_cats.txt’ saved [29515/29515]\n",
            "\n",
            "--2022-12-28 03:27:24--  https://raw.githubusercontent.com/named-entity/hse-nlp/master/4th_year/Project/train_split_cats.txt\n",
            "Resolving raw.githubusercontent.com (raw.githubusercontent.com)... 185.199.108.133, 185.199.109.133, 185.199.110.133, ...\n",
            "Connecting to raw.githubusercontent.com (raw.githubusercontent.com)|185.199.108.133|:443... connected.\n",
            "HTTP request sent, awaiting response... 200 OK\n",
            "Length: 22115 (22K) [text/plain]\n",
            "Saving to: ‘train_split_cats.txt’\n",
            "\n",
            "train_split_cats.tx 100%[===================>]  21.60K  --.-KB/s    in 0.001s  \n",
            "\n",
            "2022-12-28 03:27:24 (14.7 MB/s) - ‘train_split_cats.txt’ saved [22115/22115]\n",
            "\n"
          ]
        }
      ]
    },
    {
      "cell_type": "code",
      "source": [
        "! pip install stanza"
      ],
      "metadata": {
        "colab": {
          "base_uri": "https://localhost:8080/"
        },
        "id": "w2QPConiGE00",
        "outputId": "20876f5a-27f2-4f59-e73c-4bcb253ba8a1"
      },
      "execution_count": 4,
      "outputs": [
        {
          "output_type": "stream",
          "name": "stdout",
          "text": [
            "Looking in indexes: https://pypi.org/simple, https://us-python.pkg.dev/colab-wheels/public/simple/\n",
            "Collecting stanza\n",
            "  Downloading stanza-1.4.2-py3-none-any.whl (691 kB)\n",
            "\u001b[K     |████████████████████████████████| 691 kB 5.3 MB/s \n",
            "\u001b[?25hRequirement already satisfied: protobuf in /usr/local/lib/python3.8/dist-packages (from stanza) (3.19.6)\n",
            "Requirement already satisfied: torch>=1.3.0 in /usr/local/lib/python3.8/dist-packages (from stanza) (1.13.0+cu116)\n",
            "Requirement already satisfied: requests in /usr/local/lib/python3.8/dist-packages (from stanza) (2.23.0)\n",
            "Requirement already satisfied: numpy in /usr/local/lib/python3.8/dist-packages (from stanza) (1.21.6)\n",
            "Requirement already satisfied: tqdm in /usr/local/lib/python3.8/dist-packages (from stanza) (4.64.1)\n",
            "Requirement already satisfied: six in /usr/local/lib/python3.8/dist-packages (from stanza) (1.15.0)\n",
            "Collecting emoji\n",
            "  Downloading emoji-2.2.0.tar.gz (240 kB)\n",
            "\u001b[K     |████████████████████████████████| 240 kB 44.0 MB/s \n",
            "\u001b[?25hRequirement already satisfied: typing-extensions in /usr/local/lib/python3.8/dist-packages (from torch>=1.3.0->stanza) (4.4.0)\n",
            "Requirement already satisfied: certifi>=2017.4.17 in /usr/local/lib/python3.8/dist-packages (from requests->stanza) (2022.12.7)\n",
            "Requirement already satisfied: urllib3!=1.25.0,!=1.25.1,<1.26,>=1.21.1 in /usr/local/lib/python3.8/dist-packages (from requests->stanza) (1.24.3)\n",
            "Requirement already satisfied: chardet<4,>=3.0.2 in /usr/local/lib/python3.8/dist-packages (from requests->stanza) (3.0.4)\n",
            "Requirement already satisfied: idna<3,>=2.5 in /usr/local/lib/python3.8/dist-packages (from requests->stanza) (2.10)\n",
            "Building wheels for collected packages: emoji\n",
            "  Building wheel for emoji (setup.py) ... \u001b[?25l\u001b[?25hdone\n",
            "  Created wheel for emoji: filename=emoji-2.2.0-py3-none-any.whl size=234926 sha256=0397ce8af485b1f78d9d203a398fab9b201311cd54fb1501276404ccae0e265d\n",
            "  Stored in directory: /root/.cache/pip/wheels/86/62/9e/a6b27a681abcde69970dbc0326ff51955f3beac72f15696984\n",
            "Successfully built emoji\n",
            "Installing collected packages: emoji, stanza\n",
            "Successfully installed emoji-2.2.0 stanza-1.4.2\n"
          ]
        }
      ]
    },
    {
      "cell_type": "code",
      "source": [
        "import stanza\n",
        "stanza.download('ru')"
      ],
      "metadata": {
        "colab": {
          "base_uri": "https://localhost:8080/",
          "height": 0,
          "referenced_widgets": [
            "ba5a51045bfa4f7cb185f577e8d90752",
            "57315c4aaa9e46dc841c301686a4defc",
            "d4961995cb19456a973e48e057a85ac1",
            "aa645ba44c7d45b099dd0d43c99693f3",
            "384ee53ecc9f4087805ca5198bdab181",
            "17658bff618744148f089ecc76bf79e1",
            "73dadae39d8c455998b4e7f4db6fb3aa",
            "6f8fbffc69e1428180e239ba5c8c1c90",
            "677aa487372e4382aef1d14c0cd85668",
            "5b839273d6f94474a84644f6dfe0faca",
            "c000e7d1ec7f491ea7e00d32020d2600",
            "271172bcb3f74b7f800e23f57c586688",
            "91c12e916700430ca05c1fe109b6e563",
            "7f77b9fdba3c4caa820ced4210ecb1b0",
            "6a430fbeb1654649aa01f43839e0c852",
            "eaabe9a65fcc44e0a366e0158adc2250",
            "cf5bb84233614f87844edea1bfbf9153",
            "6a4bcf9394ef4c64bfc13d79ffa321a1",
            "aa3ac003495a4edcb0d0bcd69d561775",
            "34bd765912cf447d9eeb378c979ba307",
            "6856aea69cbb4b248175e45e012c401b",
            "48a08c79b9ea4cba823b04d69e977e74"
          ]
        },
        "id": "p87Du7i3GCao",
        "outputId": "74b98cc4-786d-4136-d5e1-644175e8c4e8"
      },
      "execution_count": 5,
      "outputs": [
        {
          "output_type": "display_data",
          "data": {
            "text/plain": [
              "Downloading https://raw.githubusercontent.com/stanfordnlp/stanza-resources/main/resources_1.4.1.json:   0%|   …"
            ],
            "application/vnd.jupyter.widget-view+json": {
              "version_major": 2,
              "version_minor": 0,
              "model_id": "ba5a51045bfa4f7cb185f577e8d90752"
            }
          },
          "metadata": {}
        },
        {
          "output_type": "stream",
          "name": "stderr",
          "text": [
            "INFO:stanza:Downloading default packages for language: ru (Russian) ...\n"
          ]
        },
        {
          "output_type": "display_data",
          "data": {
            "text/plain": [
              "Downloading https://huggingface.co/stanfordnlp/stanza-ru/resolve/v1.4.1/models/default.zip:   0%|          | 0…"
            ],
            "application/vnd.jupyter.widget-view+json": {
              "version_major": 2,
              "version_minor": 0,
              "model_id": "271172bcb3f74b7f800e23f57c586688"
            }
          },
          "metadata": {}
        },
        {
          "output_type": "stream",
          "name": "stderr",
          "text": [
            "INFO:stanza:Finished downloading models and saved to /root/stanza_resources.\n"
          ]
        }
      ]
    },
    {
      "cell_type": "markdown",
      "source": [
        "# BIO + тональность"
      ],
      "metadata": {
        "id": "5qDV-7i7GB_k"
      }
    },
    {
      "cell_type": "markdown",
      "source": [
        "Сначала на split данных"
      ],
      "metadata": {
        "id": "7ToM1ksxxUED"
      }
    },
    {
      "cell_type": "code",
      "source": [
        "from tqdm import tqdm\n",
        "import re"
      ],
      "metadata": {
        "id": "Gob-klrCLtM9"
      },
      "execution_count": 6,
      "outputs": []
    },
    {
      "cell_type": "code",
      "source": [
        "import numpy as np\n",
        "import pandas as pd\n",
        "import matplotlib.pyplot as plt\n",
        "%matplotlib inline"
      ],
      "metadata": {
        "id": "mFRJFRA_KHma"
      },
      "execution_count": 7,
      "outputs": []
    },
    {
      "cell_type": "code",
      "source": [
        "texts, ids = [], []\n",
        "with open('train_split_reviews.txt') as f:\n",
        "  for line in f:\n",
        "    text_id, text = line.rstrip('\\r\\n').split('\\t')\n",
        "    texts.append(text)\n",
        "    ids.append(text_id)"
      ],
      "metadata": {
        "id": "sCukayyrPG33"
      },
      "execution_count": 8,
      "outputs": []
    },
    {
      "cell_type": "code",
      "source": [
        "from sklearn.model_selection import train_test_split\n",
        "train_texts, dev_texts, train_ids, dev_ids = train_test_split(texts, ids)"
      ],
      "metadata": {
        "id": "HW453yVzPQj3"
      },
      "execution_count": 9,
      "outputs": []
    },
    {
      "cell_type": "code",
      "source": [
        "train_aspects, dev_aspects = [], []\n",
        "with open(\"train_split_aspects.txt\") as f:\n",
        "  for line in f:\n",
        "    line = line.rstrip('\\r\\n')\n",
        "    text_id = line.split('\\t')[0]\n",
        "    if text_id in train_ids:\n",
        "      train_aspects.append(line)\n",
        "    if text_id in dev_ids:\n",
        "      dev_aspects.append(line)"
      ],
      "metadata": {
        "id": "P9_p5oxjLMiG"
      },
      "execution_count": 10,
      "outputs": []
    },
    {
      "cell_type": "code",
      "source": [
        "train_sentiment, dev_sentiment = [], []\n",
        "with open('train_split_cats.txt') as f:\n",
        "  for line in f:\n",
        "    line = line.rstrip('\\r\\n')\n",
        "    text_id = line.split('\\t')[0]\n",
        "    if text_id in train_ids:\n",
        "      train_sentiment.append(line)\n",
        "    if text_id in dev_ids:\n",
        "      dev_sentiment.append(line)"
      ],
      "metadata": {
        "id": "Ztk7YAszPet9"
      },
      "execution_count": 11,
      "outputs": []
    },
    {
      "cell_type": "code",
      "source": [
        "reviews_train = {}\n",
        "review_test = {}\n",
        "for i in range(len(train_texts)):\n",
        "  reviews_train[train_ids[i]] = train_texts[i]\n",
        "\n",
        "for i in range(len(dev_texts)):\n",
        "  review_test[dev_ids[i]] = dev_texts[i]"
      ],
      "metadata": {
        "id": "teDy7dNhPumh"
      },
      "execution_count": 12,
      "outputs": []
    },
    {
      "cell_type": "code",
      "source": [
        "from collections import defaultdict\n",
        "aspects_train = defaultdict(list)\n",
        "aspects_test = defaultdict(list)"
      ],
      "metadata": {
        "id": "6y82rLi6P2ti"
      },
      "execution_count": 13,
      "outputs": []
    },
    {
      "cell_type": "code",
      "source": [
        "keys = ('category', 'mention', 'start', 'end', 'sentiment')\n",
        "for t in train_aspects:\n",
        "  text_id = t.split('\\t')[0]\n",
        "  line = t.split('\\t')[1:]\n",
        "  aspects_train[text_id].append(dict(zip(keys, line)))\n",
        "\n",
        "for t in dev_aspects:\n",
        "  text_id = t.split('\\t')[0]\n",
        "  line = t.split('\\t')[1:]\n",
        "  aspects_test[text_id].append(dict(zip(keys, line)))"
      ],
      "metadata": {
        "id": "xIkFvk7aP9MH"
      },
      "execution_count": 14,
      "outputs": []
    },
    {
      "cell_type": "code",
      "source": [
        "nlp = stanza.Pipeline('ru', processors='tokenize,pos')"
      ],
      "metadata": {
        "colab": {
          "base_uri": "https://localhost:8080/",
          "height": 329,
          "referenced_widgets": [
            "41b2caf8a0094656997bb1da5511b4f6",
            "8de7ef2350704231bc7af96b0b6e7d7e",
            "91ec7a0990d24f6da8fee244b1c38d93",
            "fdc596432de546e0bf8d0987e42fc9f1",
            "bd7de5973b084316a5e9e5374a3ddca5",
            "d198a982364442b4b332032ea02deffe",
            "0d341bf79e5748f783b2908820be6e14",
            "0a28ec444f544a0899b5ec094779e18e",
            "d6f43e36d00f4d9782c28820ed3b9f9a",
            "1de45a8ae8e2413d8aaf2d8f2fbbade9",
            "032ab0815eab4c2481f8f439b6d8cd78"
          ]
        },
        "id": "JdVapzpfQJOc",
        "outputId": "72a5b49c-80d6-488c-b9e4-fd6a50382160"
      },
      "execution_count": 15,
      "outputs": [
        {
          "output_type": "stream",
          "name": "stderr",
          "text": [
            "INFO:stanza:Checking for updates to resources.json in case models have been updated.  Note: this behavior can be turned off with download_method=None or download_method=DownloadMethod.REUSE_RESOURCES\n"
          ]
        },
        {
          "output_type": "display_data",
          "data": {
            "text/plain": [
              "Downloading https://raw.githubusercontent.com/stanfordnlp/stanza-resources/main/resources_1.4.1.json:   0%|   …"
            ],
            "application/vnd.jupyter.widget-view+json": {
              "version_major": 2,
              "version_minor": 0,
              "model_id": "41b2caf8a0094656997bb1da5511b4f6"
            }
          },
          "metadata": {}
        },
        {
          "output_type": "stream",
          "name": "stderr",
          "text": [
            "INFO:stanza:Loading these models for language: ru (Russian):\n",
            "=========================\n",
            "| Processor | Package   |\n",
            "-------------------------\n",
            "| tokenize  | syntagrus |\n",
            "| pos       | syntagrus |\n",
            "=========================\n",
            "\n",
            "INFO:stanza:Use device: cpu\n",
            "INFO:stanza:Loading: tokenize\n",
            "INFO:stanza:Loading: pos\n",
            "INFO:stanza:Done loading processors!\n"
          ]
        }
      ]
    },
    {
      "cell_type": "code",
      "source": [
        "def get_bio_sent(dict_items):\n",
        "\n",
        "  result = {}\n",
        "  for text_id, text in tqdm(list(dict_items)):\n",
        "    text_bio = []\n",
        "    processed = nlp(text)\n",
        "    for token in processed.iter_tokens():\n",
        "      add = False\n",
        "      for mention in aspects_train[text_id]:\n",
        "        if token.start_char == int(mention['start']):\n",
        "          bio = 'B-' + mention['category'] + '-' + mention['sentiment']\n",
        "          add = True\n",
        "          break\n",
        "        elif token.end_char == int(mention['end']):\n",
        "          bio = 'E-' + mention['category'] + '-' + mention['sentiment']\n",
        "          add = True\n",
        "          break\n",
        "        elif int(mention['start']) < token.start_char < int(mention['end']):\n",
        "          bio = 'I-' + mention['category'] + '-' + mention['sentiment']\n",
        "          add = True\n",
        "          break\n",
        "\n",
        "      if not add:\n",
        "        bio = 'O'\n",
        "\n",
        "      text_bio.append(bio)\n",
        "\n",
        "    result[text_id] = text_bio\n",
        "  return result"
      ],
      "metadata": {
        "id": "-1nJoHqYQEB1"
      },
      "execution_count": 16,
      "outputs": []
    },
    {
      "cell_type": "code",
      "source": [
        "bio_train_texts = get_bio_sent(reviews_train.items())"
      ],
      "metadata": {
        "colab": {
          "base_uri": "https://localhost:8080/"
        },
        "id": "lvQDi4KOWCPU",
        "outputId": "81b8e47a-0591-4e0c-ce71-036845e2222b"
      },
      "execution_count": 17,
      "outputs": [
        {
          "output_type": "stream",
          "name": "stderr",
          "text": [
            "100%|██████████| 159/159 [03:58<00:00,  1.50s/it]\n"
          ]
        }
      ]
    },
    {
      "cell_type": "code",
      "source": [
        "bio_test_texts = get_bio_sent(review_test.items())"
      ],
      "metadata": {
        "colab": {
          "base_uri": "https://localhost:8080/"
        },
        "id": "ox4ejRz2RZ-s",
        "outputId": "76291f6c-d96e-40cc-ef17-adfb03e1eba2"
      },
      "execution_count": 18,
      "outputs": [
        {
          "output_type": "stream",
          "name": "stderr",
          "text": [
            "100%|██████████| 54/54 [01:13<00:00,  1.36s/it]\n"
          ]
        }
      ]
    },
    {
      "cell_type": "code",
      "source": [
        "def word2features(sent, i):\n",
        "    word = sent[i].text\n",
        "    postag = sent[i].upos\n",
        "    \n",
        "    features = {\n",
        "        'word.lower()': word.lower(),\n",
        "        'word[-3:]': word[-3:],\n",
        "        'word[-2:]': word[-2:],\n",
        "        'word.isupper()': word.isupper(),\n",
        "        'word.istitle()': word.istitle(),\n",
        "        'word.isdigit()': word.isdigit(),\n",
        "        'postag': postag,\n",
        "    }\n",
        "    if i > 0:\n",
        "        word1 = sent[i-1].text\n",
        "        postag1 = sent[i-1].pos\n",
        "        features.update({\n",
        "            '-1:word.lower()': word1.lower(),\n",
        "            '-1:word.istitle()': word1.istitle(),\n",
        "            '-1:word.isupper()': word1.isupper(),\n",
        "            '-1:postag': postag1,\n",
        "        })\n",
        "    else:\n",
        "        features['BOS'] = True\n",
        "        \n",
        "    if i < len(sent)-1:\n",
        "        word1 = sent[i+1].text\n",
        "        postag1 = sent[i+1].pos\n",
        "        features.update({\n",
        "            '+1:word.lower()': word1.lower(),\n",
        "            '+1:word.istitle()': word1.istitle(),\n",
        "            '+1:word.isupper()': word1.isupper(),\n",
        "            '+1:postag': postag1,\n",
        "            '+1:postag[:2]': postag1[:2],\n",
        "        })\n",
        "    else:\n",
        "        features['EOS'] = True\n",
        "                \n",
        "    return features\n",
        "\n",
        "\n",
        "def text2features(text):\n",
        "  prep_text = nlp(text)\n",
        "  toks = []\n",
        "  for sent in prep_text.sentences:\n",
        "    for token in sent.words:\n",
        "      toks.append(token)\n",
        "  return [word2features(toks, i) for i in range(len(toks))]\n",
        "\n",
        "def text2labels(text_ids, labels):\n",
        "    return [labels[i] for i in text_ids]\n",
        "\n",
        "def text2tokens(text):\n",
        "    prep_text = nlp(text)\n",
        "    toks = []\n",
        "    for sent in prep_text.sentences:\n",
        "      for token in sent.words:\n",
        "        toks.append(token)\n",
        "    return toks"
      ],
      "metadata": {
        "id": "Jce43dXVRltv"
      },
      "execution_count": 19,
      "outputs": []
    },
    {
      "cell_type": "code",
      "source": [
        "X_train = [text2features(s) for s in train_texts]\n",
        "y_train = text2labels(train_ids, bio_train_texts)\n",
        "\n",
        "X_test = [text2features(s) for s in dev_texts]\n",
        "y_test = text2labels(dev_ids, bio_test_texts)"
      ],
      "metadata": {
        "id": "0v_PAfOKSAGj"
      },
      "execution_count": 20,
      "outputs": []
    },
    {
      "cell_type": "code",
      "source": [
        "! pip install sklearn-crfsuite"
      ],
      "metadata": {
        "id": "LqqRPzZWSdkh",
        "colab": {
          "base_uri": "https://localhost:8080/"
        },
        "outputId": "97a98c9d-6f09-460e-f570-2aed20b7ab40"
      },
      "execution_count": 21,
      "outputs": [
        {
          "output_type": "stream",
          "name": "stdout",
          "text": [
            "Looking in indexes: https://pypi.org/simple, https://us-python.pkg.dev/colab-wheels/public/simple/\n",
            "Collecting sklearn-crfsuite\n",
            "  Downloading sklearn_crfsuite-0.3.6-py2.py3-none-any.whl (12 kB)\n",
            "Requirement already satisfied: tabulate in /usr/local/lib/python3.8/dist-packages (from sklearn-crfsuite) (0.8.10)\n",
            "Requirement already satisfied: six in /usr/local/lib/python3.8/dist-packages (from sklearn-crfsuite) (1.15.0)\n",
            "Collecting python-crfsuite>=0.8.3\n",
            "  Downloading python_crfsuite-0.9.8-cp38-cp38-manylinux_2_17_x86_64.manylinux2014_x86_64.whl (1.0 MB)\n",
            "\u001b[K     |████████████████████████████████| 1.0 MB 2.9 MB/s \n",
            "\u001b[?25hRequirement already satisfied: tqdm>=2.0 in /usr/local/lib/python3.8/dist-packages (from sklearn-crfsuite) (4.64.1)\n",
            "Installing collected packages: python-crfsuite, sklearn-crfsuite\n",
            "Successfully installed python-crfsuite-0.9.8 sklearn-crfsuite-0.3.6\n"
          ]
        }
      ]
    },
    {
      "cell_type": "code",
      "source": [
        "import sklearn_crfsuite\n",
        "from sklearn_crfsuite import scorers\n",
        "from sklearn_crfsuite import metrics"
      ],
      "metadata": {
        "id": "UxbUyQ7vSOVf"
      },
      "execution_count": 22,
      "outputs": []
    },
    {
      "cell_type": "code",
      "source": [
        "crf = sklearn_crfsuite.CRF(\n",
        "    # используемый алгоритм\n",
        "    algorithm='lbfgs',  \n",
        "    # коэф. регуляризации\n",
        "    c1=0.1,   \n",
        "    c2=0.1, \n",
        "    # кол-во итераций для оптимизации lbfgs\n",
        "    max_iterations=100, \n",
        "    # If true, transition features are also generated by CRF while training\n",
        "    all_possible_transitions=True\n",
        ")\n",
        "\n",
        "crf.fit(X_train, y_train)"
      ],
      "metadata": {
        "colab": {
          "base_uri": "https://localhost:8080/"
        },
        "id": "s4a1a0MqSC0x",
        "outputId": "9d2ac2fa-ae18-42a0-f462-86342349d42e"
      },
      "execution_count": 23,
      "outputs": [
        {
          "output_type": "stream",
          "name": "stderr",
          "text": [
            "/usr/local/lib/python3.8/dist-packages/sklearn/base.py:209: FutureWarning: From version 0.24, get_params will raise an AttributeError if a parameter cannot be retrieved as an instance attribute. Previously it would return None.\n",
            "  warnings.warn('From version 0.24, get_params will raise an '\n"
          ]
        },
        {
          "output_type": "execute_result",
          "data": {
            "text/plain": [
              "CRF(algorithm='lbfgs', all_possible_transitions=True, c1=0.1, c2=0.1,\n",
              "    keep_tempfiles=None, max_iterations=100)"
            ]
          },
          "metadata": {},
          "execution_count": 23
        }
      ]
    },
    {
      "cell_type": "code",
      "source": [
        "labels = list(crf.classes_)\n",
        "#labels"
      ],
      "metadata": {
        "id": "A_hrBlgqZnFl"
      },
      "execution_count": 24,
      "outputs": []
    },
    {
      "cell_type": "code",
      "source": [
        "y_pred = crf.predict(X_test)\n",
        "metrics.flat_f1_score(y_test, y_pred, \n",
        "                      average='weighted', labels=labels)"
      ],
      "metadata": {
        "colab": {
          "base_uri": "https://localhost:8080/"
        },
        "id": "wJVXR8KjT7a2",
        "outputId": "0b65ee5f-e093-4282-bdce-9be837a68de4"
      },
      "execution_count": 25,
      "outputs": [
        {
          "output_type": "stream",
          "name": "stderr",
          "text": [
            "/usr/local/lib/python3.8/dist-packages/sklearn/metrics/_classification.py:1464: UndefinedMetricWarning: F-score is ill-defined and being set to 0.0 in labels with no true nor predicted samples. Use `zero_division` parameter to control this behavior.\n",
            "  _warn_prf(\n"
          ]
        },
        {
          "output_type": "execute_result",
          "data": {
            "text/plain": [
              "0.9536180308422303"
            ]
          },
          "metadata": {},
          "execution_count": 25
        }
      ]
    },
    {
      "cell_type": "code",
      "source": [
        "sorted_labels = sorted(\n",
        "    labels, \n",
        "    key=lambda name: (name[1:], name[0])\n",
        ")\n",
        "print(metrics.flat_classification_report(\n",
        "    y_test, y_pred, labels=sorted_labels, digits=3\n",
        "))"
      ],
      "metadata": {
        "colab": {
          "base_uri": "https://localhost:8080/"
        },
        "id": "sXeWYOvKirke",
        "outputId": "55fdff4f-ef58-42b8-92c7-4b4b6a43e401"
      },
      "execution_count": 26,
      "outputs": [
        {
          "output_type": "stream",
          "name": "stdout",
          "text": [
            "                     precision    recall  f1-score   support\n",
            "\n",
            "                  O      1.000     0.911     0.954      8821\n",
            "        B-Food-both      0.000     0.000     0.000         0\n",
            "        E-Food-both      0.000     0.000     0.000         0\n",
            "        I-Food-both      0.000     0.000     0.000         0\n",
            "    B-Food-negative      0.000     0.000     0.000         0\n",
            "    E-Food-negative      0.000     0.000     0.000         0\n",
            "    I-Food-negative      0.000     0.000     0.000         0\n",
            "     B-Food-neutral      0.000     0.000     0.000         0\n",
            "     E-Food-neutral      0.000     0.000     0.000         0\n",
            "     I-Food-neutral      0.000     0.000     0.000         0\n",
            "    B-Food-positive      0.000     0.000     0.000         0\n",
            "    E-Food-positive      0.000     0.000     0.000         0\n",
            "    I-Food-positive      0.000     0.000     0.000         0\n",
            "    B-Interior-both      0.000     0.000     0.000         0\n",
            "    E-Interior-both      0.000     0.000     0.000         0\n",
            "B-Interior-negative      0.000     0.000     0.000         0\n",
            "E-Interior-negative      0.000     0.000     0.000         0\n",
            "I-Interior-negative      0.000     0.000     0.000         0\n",
            " B-Interior-neutral      0.000     0.000     0.000         0\n",
            " E-Interior-neutral      0.000     0.000     0.000         0\n",
            " I-Interior-neutral      0.000     0.000     0.000         0\n",
            "B-Interior-positive      0.000     0.000     0.000         0\n",
            "E-Interior-positive      0.000     0.000     0.000         0\n",
            "I-Interior-positive      0.000     0.000     0.000         0\n",
            "       B-Price-both      0.000     0.000     0.000         0\n",
            "   B-Price-negative      0.000     0.000     0.000         0\n",
            "   E-Price-negative      0.000     0.000     0.000         0\n",
            "   I-Price-negative      0.000     0.000     0.000         0\n",
            "    B-Price-neutral      0.000     0.000     0.000         0\n",
            "    E-Price-neutral      0.000     0.000     0.000         0\n",
            "    I-Price-neutral      0.000     0.000     0.000         0\n",
            "   B-Price-positive      0.000     0.000     0.000         0\n",
            "   E-Price-positive      0.000     0.000     0.000         0\n",
            "   I-Price-positive      0.000     0.000     0.000         0\n",
            "     B-Service-both      0.000     0.000     0.000         0\n",
            " B-Service-negative      0.000     0.000     0.000         0\n",
            " E-Service-negative      0.000     0.000     0.000         0\n",
            " I-Service-negative      0.000     0.000     0.000         0\n",
            "  B-Service-neutral      0.000     0.000     0.000         0\n",
            "  E-Service-neutral      0.000     0.000     0.000         0\n",
            "  I-Service-neutral      0.000     0.000     0.000         0\n",
            " B-Service-positive      0.000     0.000     0.000         0\n",
            " E-Service-positive      0.000     0.000     0.000         0\n",
            " I-Service-positive      0.000     0.000     0.000         0\n",
            "       B-Whole-both      0.000     0.000     0.000         0\n",
            "       E-Whole-both      0.000     0.000     0.000         0\n",
            "   B-Whole-negative      0.000     0.000     0.000         0\n",
            "   E-Whole-negative      0.000     0.000     0.000         0\n",
            "   I-Whole-negative      0.000     0.000     0.000         0\n",
            "    B-Whole-neutral      0.000     0.000     0.000         0\n",
            "    E-Whole-neutral      0.000     0.000     0.000         0\n",
            "    I-Whole-neutral      0.000     0.000     0.000         0\n",
            "   B-Whole-positive      0.000     0.000     0.000         0\n",
            "   E-Whole-positive      0.000     0.000     0.000         0\n",
            "   I-Whole-positive      0.000     0.000     0.000         0\n",
            "\n",
            "          micro avg      0.911     0.911     0.911      8821\n",
            "          macro avg      0.018     0.017     0.017      8821\n",
            "       weighted avg      1.000     0.911     0.954      8821\n",
            "\n"
          ]
        },
        {
          "output_type": "stream",
          "name": "stderr",
          "text": [
            "/usr/local/lib/python3.8/dist-packages/sklearn/utils/validation.py:67: FutureWarning: Pass labels=['O', 'B-Food-both', 'E-Food-both', 'I-Food-both', 'B-Food-negative', 'E-Food-negative', 'I-Food-negative', 'B-Food-neutral', 'E-Food-neutral', 'I-Food-neutral', 'B-Food-positive', 'E-Food-positive', 'I-Food-positive', 'B-Interior-both', 'E-Interior-both', 'B-Interior-negative', 'E-Interior-negative', 'I-Interior-negative', 'B-Interior-neutral', 'E-Interior-neutral', 'I-Interior-neutral', 'B-Interior-positive', 'E-Interior-positive', 'I-Interior-positive', 'B-Price-both', 'B-Price-negative', 'E-Price-negative', 'I-Price-negative', 'B-Price-neutral', 'E-Price-neutral', 'I-Price-neutral', 'B-Price-positive', 'E-Price-positive', 'I-Price-positive', 'B-Service-both', 'B-Service-negative', 'E-Service-negative', 'I-Service-negative', 'B-Service-neutral', 'E-Service-neutral', 'I-Service-neutral', 'B-Service-positive', 'E-Service-positive', 'I-Service-positive', 'B-Whole-both', 'E-Whole-both', 'B-Whole-negative', 'E-Whole-negative', 'I-Whole-negative', 'B-Whole-neutral', 'E-Whole-neutral', 'I-Whole-neutral', 'B-Whole-positive', 'E-Whole-positive', 'I-Whole-positive'] as keyword args. From version 0.25 passing these as positional arguments will result in an error\n",
            "  warnings.warn(\"Pass {} as keyword args. From version 0.25 \"\n",
            "/usr/local/lib/python3.8/dist-packages/sklearn/metrics/_classification.py:1221: UndefinedMetricWarning: Precision and F-score are ill-defined and being set to 0.0 in labels with no predicted samples. Use `zero_division` parameter to control this behavior.\n",
            "  _warn_prf(average, modifier, msg_start, len(result))\n",
            "/usr/local/lib/python3.8/dist-packages/sklearn/metrics/_classification.py:1221: UndefinedMetricWarning: Recall and F-score are ill-defined and being set to 0.0 in labels with no true samples. Use `zero_division` parameter to control this behavior.\n",
            "  _warn_prf(average, modifier, msg_start, len(result))\n"
          ]
        }
      ]
    },
    {
      "cell_type": "markdown",
      "source": [
        "# Пишем в файл"
      ],
      "metadata": {
        "id": "-O3_RCORqAvU"
      }
    },
    {
      "cell_type": "code",
      "source": [
        "dict_words = {}\n",
        "for aspect in dev_aspects:\n",
        "  cat = aspect.split('\\t')[1]\n",
        "  word = aspect.split('\\t')[2]\n",
        "  dict_words[word] = cat\n",
        "dict_sents = {}\n",
        "for aspect in dev_aspects:\n",
        "  cat = aspect.split('\\t')[-1]\n",
        "  word = aspect.split('\\t')[2]\n",
        "  dict_sents[word] = cat"
      ],
      "metadata": {
        "id": "nrQnJ-tlp9_Q"
      },
      "execution_count": 27,
      "outputs": []
    },
    {
      "cell_type": "code",
      "source": [
        "with open('dev_pred_aspects_sent.txt', \"w\") as f:\n",
        "  for i in tqdm(range(len(dev_texts))):\n",
        "    preds = y_pred[i]\n",
        "    dev_text = nlp(dev_texts[i])\n",
        "    dev = []\n",
        "    dev_ends = []\n",
        "    dev_starts = []\n",
        "    text = nlp(dev_text)\n",
        "    sents = text.sentences\n",
        "    for sent in sents:\n",
        "      toks = sent.tokens\n",
        "      for tok in toks:\n",
        "        dev.append(tok.text)\n",
        "        dev_ends.append(tok.end_char)\n",
        "        dev_starts.append(tok.start_char)\n",
        "    \n",
        "    y_2 = 0\n",
        "    for y in range(len(preds)):\n",
        "      if y == y_2:\n",
        "        y_2 = y + 1\n",
        "        if preds[y] != 'O':\n",
        "          if 'positive' in preds[y]:\n",
        "            sent = 'positive'\n",
        "            cat = preds[y][2:-9]\n",
        "\n",
        "          elif 'negative' in preds[y]:\n",
        "            sent = 'negative'\n",
        "            cat = preds[y][2:-9]\n",
        "          \n",
        "          elif 'neutral' in preds[y]:\n",
        "            sent = 'neutral'\n",
        "            cat = preds[y][2:-8]\n",
        "          \n",
        "          elif 'both' in preds[y]:\n",
        "            sent = 'both'\n",
        "            cat = preds[y][2:-5]\n",
        "          \n",
        "          \n",
        "          id_text = dev_ids[i]\n",
        "          tokens_span = dev[y]\n",
        "          ends_span = dev_ends[y]\n",
        "          starts_span = dev_starts[y]\n",
        "          for e in range(y+1, len(preds)):\n",
        "            if 'positive' in preds[y]:\n",
        "              cat_e = preds[e][2:-9]\n",
        "\n",
        "            elif 'negative' in preds[y]:\n",
        "              cat_e = preds[e][2:-9]\n",
        "            \n",
        "            elif 'neutral' in preds[y]:\n",
        "              cat_e = preds[e][2:-8]\n",
        "            \n",
        "            elif 'both' in preds[y]:\n",
        "              cat_e = preds[e][2:-5]\n",
        "\n",
        "            if cat_e != cat:\n",
        "              break\n",
        "            else:\n",
        "              token = ' ' + dev[e]\n",
        "              ends_span = dev_ends[e]\n",
        "              tokens_span += token\n",
        "              y_2 = e + 1\n",
        "\n",
        "          print(id_text, cat, tokens_span, starts_span, ends_span, sent, sep=\"\\t\", file=f)\n",
        "\n",
        "        elif preds[y] == 'O':\n",
        "          if dev[y] in dict_sents.keys():\n",
        "            id_text = dev_ids[i]\n",
        "            cat = dict_words[dev[y]]\n",
        "            sent = dict_sents[dev[y]]\n",
        "            tokens_span = dev[y]\n",
        "            ends_span = dev_ends[y]\n",
        "            starts_span = dev_starts[y]\n",
        "            print(id_text, cat, tokens_span, starts_span, ends_span, sent, sep=\"\\t\", file=f)"
      ],
      "metadata": {
        "colab": {
          "base_uri": "https://localhost:8080/"
        },
        "id": "gNRQCWqZpj2f",
        "outputId": "cbf0f390-e93a-43b3-8188-18f5f08a6668"
      },
      "execution_count": 28,
      "outputs": [
        {
          "output_type": "stream",
          "name": "stderr",
          "text": [
            "100%|██████████| 54/54 [02:31<00:00,  2.81s/it]\n"
          ]
        }
      ]
    },
    {
      "cell_type": "markdown",
      "source": [
        "# Оценка качества"
      ],
      "metadata": {
        "id": "ZPLozVZqq89J"
      }
    },
    {
      "cell_type": "code",
      "source": [
        "! wget https://raw.githubusercontent.com/named-entity/hse-nlp/master/4th_year/Project/dev_aspects.txt"
      ],
      "metadata": {
        "colab": {
          "base_uri": "https://localhost:8080/"
        },
        "id": "_pbQ6PPlrenn",
        "outputId": "c7e393ef-580f-44d6-f70a-d71045d837c5"
      },
      "execution_count": 29,
      "outputs": [
        {
          "output_type": "stream",
          "name": "stdout",
          "text": [
            "--2022-12-28 03:42:37--  https://raw.githubusercontent.com/named-entity/hse-nlp/master/4th_year/Project/dev_aspects.txt\n",
            "Resolving raw.githubusercontent.com (raw.githubusercontent.com)... 185.199.108.133, 185.199.109.133, 185.199.110.133, ...\n",
            "Connecting to raw.githubusercontent.com (raw.githubusercontent.com)|185.199.108.133|:443... connected.\n",
            "HTTP request sent, awaiting response... 200 OK\n",
            "Length: 57508 (56K) [text/plain]\n",
            "Saving to: ‘dev_aspects.txt’\n",
            "\n",
            "\rdev_aspects.txt       0%[                    ]       0  --.-KB/s               \rdev_aspects.txt     100%[===================>]  56.16K  --.-KB/s    in 0.01s   \n",
            "\n",
            "2022-12-28 03:42:37 (5.32 MB/s) - ‘dev_aspects.txt’ saved [57508/57508]\n",
            "\n"
          ]
        }
      ]
    },
    {
      "cell_type": "code",
      "source": [
        "with open('dev_aspects.txt', \"w\") as f:\n",
        "  for l in dev_aspects:\n",
        "    print(l, file=f)"
      ],
      "metadata": {
        "id": "B70HfmGcw1gb"
      },
      "execution_count": 30,
      "outputs": []
    },
    {
      "cell_type": "code",
      "source": [
        "gold_aspect_cats = {}\n",
        "with open('dev_aspects.txt') as fg:\n",
        "    for line in fg:\n",
        "        line = line.rstrip('\\r\\n').split('\\t')\n",
        "        if line[0] not in gold_aspect_cats:\n",
        "            gold_aspect_cats[line[0]] = {\"starts\":[], \"ends\":[], \"cats\":[], \"sents\":[]}\n",
        "        gold_aspect_cats[line[0]][\"starts\"].append(int(line[3]))\n",
        "        gold_aspect_cats[line[0]][\"ends\"].append(int(line[4]))\n",
        "        gold_aspect_cats[line[0]][\"cats\"].append(line[1])\n",
        "        gold_aspect_cats[line[0]][\"sents\"].append(line[5])"
      ],
      "metadata": {
        "id": "fDYMlSxKr12t"
      },
      "execution_count": 31,
      "outputs": []
    },
    {
      "cell_type": "code",
      "source": [
        "full_match, partial_match, full_cat_match, partial_cat_match = 0, 0, 0, 0\n",
        "total = 0\n",
        "fully_matched_pairs = []\n",
        "partially_matched_pairs = []\n",
        "with open('dev_pred_aspects_sent.txt') as fp:\n",
        "    for line in fp:    \n",
        "        total += 1\n",
        "        line = line.rstrip('\\r\\n').split('\\t')\n",
        "        start, end = int(line[3]), int(line[4])\n",
        "        category = line[1]\n",
        "        doc_gold_aspect_cats = gold_aspect_cats[line[0]]\n",
        "        if start in doc_gold_aspect_cats[\"starts\"]:\n",
        "            i = doc_gold_aspect_cats[\"starts\"].index(start)\n",
        "            if doc_gold_aspect_cats[\"ends\"][i] == end:\n",
        "                full_match += 1\n",
        "                if doc_gold_aspect_cats[\"cats\"][i] == category:\n",
        "                    full_cat_match += 1\n",
        "                else:\n",
        "                    partial_cat_match += 1\n",
        "                fully_matched_pairs.append(\n",
        "                    (\n",
        "                        [\n",
        "                            doc_gold_aspect_cats[\"starts\"][i], \n",
        "                            doc_gold_aspect_cats[\"ends\"][i], \n",
        "                            doc_gold_aspect_cats[\"cats\"][i],\n",
        "                            doc_gold_aspect_cats[\"sents\"][i]\n",
        "                        ],\n",
        "                        line\n",
        "                    )\n",
        "                )\n",
        "                continue\n",
        "        for s_pos in doc_gold_aspect_cats[\"starts\"]:\n",
        "            if start <= s_pos:\n",
        "                i = doc_gold_aspect_cats[\"starts\"].index(s_pos)\n",
        "                if doc_gold_aspect_cats[\"ends\"][i] == end:\n",
        "                    partial_match += 1\n",
        "                    partially_matched_pairs.append(\n",
        "                        (\n",
        "                            [\n",
        "                                doc_gold_aspect_cats[\"starts\"][i], \n",
        "                                doc_gold_aspect_cats[\"ends\"][i], \n",
        "                                doc_gold_aspect_cats[\"cats\"][i],\n",
        "                                doc_gold_aspect_cats[\"sents\"][i]\n",
        "                            ],\n",
        "                            line\n",
        "                        )\n",
        "                    )\n",
        "                    if doc_gold_aspect_cats[\"cats\"][i] == category:\n",
        "                        partial_cat_match += 1\n",
        "                    continue\n",
        "                matched = False\n",
        "                for e_pos in doc_gold_aspect_cats[\"ends\"][i:]:\n",
        "                    if s_pos <= end <= e_pos:\n",
        "                        partial_match += 1\n",
        "                        partially_matched_pairs.append(\n",
        "                            (\n",
        "                                [\n",
        "                                    doc_gold_aspect_cats[\"starts\"][i], \n",
        "                                    doc_gold_aspect_cats[\"ends\"][i], \n",
        "                                    doc_gold_aspect_cats[\"cats\"][i],\n",
        "                                    doc_gold_aspect_cats[\"sents\"][i]\n",
        "                                ],\n",
        "                                line\n",
        "                            )\n",
        "                        )\n",
        "                        if doc_gold_aspect_cats[\"cats\"][i] == category:\n",
        "                            partial_cat_match += 1\n",
        "                        matched = True\n",
        "                        break\n",
        "                if matched:\n",
        "                    break\n",
        "            if start > s_pos:\n",
        "                i = doc_gold_aspect_cats[\"starts\"].index(s_pos)\n",
        "                if start < doc_gold_aspect_cats[\"ends\"][i] <= end:\n",
        "                    partial_match += 1\n",
        "                    partially_matched_pairs.append(\n",
        "                        (\n",
        "                            [\n",
        "                                doc_gold_aspect_cats[\"starts\"][i], \n",
        "                                doc_gold_aspect_cats[\"ends\"][i], \n",
        "                                doc_gold_aspect_cats[\"cats\"][i],\n",
        "                                doc_gold_aspect_cats[\"sents\"][i]\n",
        "                            ],\n",
        "                            line\n",
        "                        )\n",
        "                    )\n",
        "                    if doc_gold_aspect_cats[\"cats\"][i] == category:\n",
        "                        partial_cat_match += 1\n",
        "                    break\n",
        "\n",
        "     "
      ],
      "metadata": {
        "id": "nuIugT1kr2qf"
      },
      "execution_count": 32,
      "outputs": []
    },
    {
      "cell_type": "code",
      "source": [
        "gold_size = sum([len(gold_aspect_cats[x][\"cats\"]) for x in gold_aspect_cats])"
      ],
      "metadata": {
        "id": "EKlRWuKur5dJ"
      },
      "execution_count": 33,
      "outputs": []
    },
    {
      "cell_type": "code",
      "source": [
        "print(f\"\"\"\n",
        "Full match precision: {full_match / total}\n",
        "Full match recall: {full_match / gold_size}\n",
        "Partial match ratio in pred: {(full_match + partial_match)  / total}\n",
        "Full category accuracy: {full_cat_match / total}\n",
        "Partial category accuracy: {(full_cat_match + partial_cat_match) / total}\n",
        "\"\"\")"
      ],
      "metadata": {
        "colab": {
          "base_uri": "https://localhost:8080/"
        },
        "id": "0zevIGX8w8Aq",
        "outputId": "6a3ae2a9-ef4c-4c01-e262-c4819408c65c"
      },
      "execution_count": 34,
      "outputs": [
        {
          "output_type": "stream",
          "name": "stdout",
          "text": [
            "\n",
            "Full match precision: 0.7050912584053795\n",
            "Full match recall: 0.8275084554678692\n",
            "Partial match ratio in pred: 0.7973102785782901\n",
            "Full category accuracy: 0.6954851104707013\n",
            "Partial category accuracy: 0.7867435158501441\n",
            "\n"
          ]
        }
      ]
    },
    {
      "cell_type": "markdown",
      "source": [
        "# Обучение на всех данных и сохранение модели"
      ],
      "metadata": {
        "id": "s_8mruq45Aiz"
      }
    },
    {
      "cell_type": "code",
      "source": [
        "texts, ids = [], []\n",
        "with open('train_reviews.txt') as f:\n",
        "  for line in f:\n",
        "    text_id, text = line.rstrip('\\r\\n').split('\\t')\n",
        "    texts.append(text)\n",
        "    ids.append(text_id)"
      ],
      "metadata": {
        "id": "B4lrO5O65Fnc"
      },
      "execution_count": 35,
      "outputs": []
    },
    {
      "cell_type": "code",
      "source": [
        "from sklearn.model_selection import train_test_split\n",
        "train_texts, dev_texts, train_ids, dev_ids = train_test_split(texts, ids)"
      ],
      "metadata": {
        "id": "jY_HHdl-5N7M"
      },
      "execution_count": 36,
      "outputs": []
    },
    {
      "cell_type": "code",
      "source": [
        "train_aspects, dev_aspects = [], []\n",
        "with open(\"train_aspects.txt\") as f:\n",
        "  for line in f:\n",
        "    line = line.rstrip('\\r\\n')\n",
        "    text_id = line.split('\\t')[0]\n",
        "    if text_id in train_ids:\n",
        "      train_aspects.append(line)\n",
        "    if text_id in dev_ids:\n",
        "      dev_aspects.append(line)"
      ],
      "metadata": {
        "id": "uaiFCPcy5R3W"
      },
      "execution_count": 37,
      "outputs": []
    },
    {
      "cell_type": "code",
      "source": [
        "train_sentiment, dev_sentiment = [], []\n",
        "with open('train_cats.txt') as f:\n",
        "  for line in f:\n",
        "    line = line.rstrip('\\r\\n')\n",
        "    text_id = line.split('\\t')[0]\n",
        "    if text_id in train_ids:\n",
        "      train_sentiment.append(line)\n",
        "    if text_id in dev_ids:\n",
        "      dev_sentiment.append(line)"
      ],
      "metadata": {
        "id": "gp6uxA2_5XuO"
      },
      "execution_count": 38,
      "outputs": []
    },
    {
      "cell_type": "code",
      "source": [
        "reviews_train = {}\n",
        "review_test = {}\n",
        "for i in range(len(train_texts)):\n",
        "  reviews_train[train_ids[i]] = train_texts[i]\n",
        "\n",
        "for i in range(len(dev_texts)):\n",
        "  review_test[dev_ids[i]] = dev_texts[i]"
      ],
      "metadata": {
        "id": "u37FFBGU5cmZ"
      },
      "execution_count": 39,
      "outputs": []
    },
    {
      "cell_type": "code",
      "source": [
        "from collections import defaultdict\n",
        "aspects_train = defaultdict(list)\n",
        "aspects_test = defaultdict(list)\n",
        "keys = ('category', 'mention', 'start', 'end', 'sentiment')\n",
        "for t in train_aspects:\n",
        "  text_id = t.split('\\t')[0]\n",
        "  line = t.split('\\t')[1:]\n",
        "  aspects_train[text_id].append(dict(zip(keys, line)))\n",
        "\n",
        "for t in dev_aspects:\n",
        "  text_id = t.split('\\t')[0]\n",
        "  line = t.split('\\t')[1:]\n",
        "  aspects_test[text_id].append(dict(zip(keys, line)))"
      ],
      "metadata": {
        "id": "ym1Jzyx_5ibf"
      },
      "execution_count": 40,
      "outputs": []
    },
    {
      "cell_type": "code",
      "source": [
        "bio_train_texts = get_bio_sent(reviews_train.items())\n",
        "bio_test_texts = get_bio_sent(review_test.items())"
      ],
      "metadata": {
        "colab": {
          "base_uri": "https://localhost:8080/"
        },
        "id": "OU5mRkT45rHW",
        "outputId": "92cbc53b-129c-4ec8-a266-88506f9477ef"
      },
      "execution_count": 41,
      "outputs": [
        {
          "output_type": "stream",
          "name": "stderr",
          "text": [
            "100%|██████████| 213/213 [06:16<00:00,  1.77s/it]\n",
            "100%|██████████| 71/71 [01:59<00:00,  1.68s/it]\n"
          ]
        }
      ]
    },
    {
      "cell_type": "code",
      "source": [
        "X_train = [text2features(s) for s in train_texts]\n",
        "y_train = text2labels(train_ids, bio_train_texts)"
      ],
      "metadata": {
        "id": "BDcwXP3u58Sj"
      },
      "execution_count": 42,
      "outputs": []
    },
    {
      "cell_type": "code",
      "source": [
        "model_crf = sklearn_crfsuite.CRF(\n",
        "    algorithm='lbfgs', \n",
        "    c1=0.1, \n",
        "    c2=0.1, \n",
        "    max_iterations=100, \n",
        "    all_possible_transitions=True\n",
        ")"
      ],
      "metadata": {
        "id": "OFYbzjw559IM"
      },
      "execution_count": 43,
      "outputs": []
    },
    {
      "cell_type": "code",
      "source": [
        "model_crf.fit(X_train, y_train)"
      ],
      "metadata": {
        "colab": {
          "base_uri": "https://localhost:8080/"
        },
        "id": "QpLoQaLS6NUH",
        "outputId": "869d24d4-cedf-4813-a8bd-c1f004cf9a13"
      },
      "execution_count": 44,
      "outputs": [
        {
          "output_type": "execute_result",
          "data": {
            "text/plain": [
              "CRF(algorithm='lbfgs', all_possible_transitions=True, c1=0.1, c2=0.1,\n",
              "    keep_tempfiles=None, max_iterations=100)"
            ]
          },
          "metadata": {},
          "execution_count": 44
        }
      ]
    },
    {
      "cell_type": "code",
      "source": [
        "import pickle\n",
        "pickle.dump(model_crf, open('part2.sav', 'wb'))"
      ],
      "metadata": {
        "id": "1A67suui6Pdn"
      },
      "execution_count": 45,
      "outputs": []
    }
  ]
}