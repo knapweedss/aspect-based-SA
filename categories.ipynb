{
  "nbformat": 4,
  "nbformat_minor": 0,
  "metadata": {
    "colab": {
      "provenance": []
    },
    "kernelspec": {
      "name": "python3",
      "display_name": "Python 3"
    },
    "language_info": {
      "name": "python"
    }
  },
  "cells": [
    {
      "cell_type": "markdown",
      "source": [
        "# Скачиваем данные"
      ],
      "metadata": {
        "id": "JiWd1I6J_tFo"
      }
    },
    {
      "cell_type": "code",
      "source": [
        "!wget https://raw.githubusercontent.com/knapweedss/aspect-based-SA/main/files_for_cats/TRAIN_ASP.txt\n",
        "!wget https://raw.githubusercontent.com/knapweedss/aspect-based-SA/main/files_for_cats/TRAIN_CATS.txt\n",
        "!wget https://raw.githubusercontent.com/knapweedss/aspect-based-SA/main/files_for_cats/dev_cats.txt\n",
        "!wget https://raw.githubusercontent.com/knapweedss/aspect-based-SA/main/files_for_cats/dev_pred_aspects_sent.txt"
      ],
      "metadata": {
        "colab": {
          "base_uri": "https://localhost:8080/"
        },
        "id": "pMDA1VIkeXjy",
        "outputId": "f445ec87-5c7a-4647-e74a-1cee63d22a90"
      },
      "execution_count": null,
      "outputs": [
        {
          "output_type": "stream",
          "name": "stdout",
          "text": [
            "--2022-12-29 01:33:43--  https://raw.githubusercontent.com/knapweedss/aspect-based-SA/main/files_for_cats/TRAIN_ASP.txt\n",
            "Resolving raw.githubusercontent.com (raw.githubusercontent.com)... 185.199.108.133, 185.199.109.133, 185.199.110.133, ...\n",
            "Connecting to raw.githubusercontent.com (raw.githubusercontent.com)|185.199.108.133|:443... connected.\n",
            "HTTP request sent, awaiting response... 200 OK\n",
            "Length: 228391 (223K) [text/plain]\n",
            "Saving to: ‘TRAIN_ASP.txt’\n",
            "\n",
            "\rTRAIN_ASP.txt         0%[                    ]       0  --.-KB/s               \rTRAIN_ASP.txt       100%[===================>] 223.04K  --.-KB/s    in 0.006s  \n",
            "\n",
            "2022-12-29 01:33:43 (37.1 MB/s) - ‘TRAIN_ASP.txt’ saved [228391/228391]\n",
            "\n",
            "--2022-12-29 01:33:43--  https://raw.githubusercontent.com/knapweedss/aspect-based-SA/main/files_for_cats/TRAIN_CATS.txt\n",
            "Resolving raw.githubusercontent.com (raw.githubusercontent.com)... 185.199.108.133, 185.199.109.133, 185.199.110.133, ...\n",
            "Connecting to raw.githubusercontent.com (raw.githubusercontent.com)|185.199.108.133|:443... connected.\n",
            "HTTP request sent, awaiting response... 200 OK\n",
            "Length: 29515 (29K) [text/plain]\n",
            "Saving to: ‘TRAIN_CATS.txt’\n",
            "\n",
            "TRAIN_CATS.txt      100%[===================>]  28.82K  --.-KB/s    in 0s      \n",
            "\n",
            "2022-12-29 01:33:43 (120 MB/s) - ‘TRAIN_CATS.txt’ saved [29515/29515]\n",
            "\n",
            "--2022-12-29 01:33:43--  https://raw.githubusercontent.com/knapweedss/aspect-based-SA/main/files_for_cats/dev_cats.txt\n",
            "Resolving raw.githubusercontent.com (raw.githubusercontent.com)... 185.199.108.133, 185.199.111.133, 185.199.109.133, ...\n",
            "Connecting to raw.githubusercontent.com (raw.githubusercontent.com)|185.199.108.133|:443... connected.\n",
            "HTTP request sent, awaiting response... 200 OK\n",
            "Length: 7420 (7.2K) [text/plain]\n",
            "Saving to: ‘dev_cats.txt.1’\n",
            "\n",
            "dev_cats.txt.1      100%[===================>]   7.25K  --.-KB/s    in 0s      \n",
            "\n",
            "2022-12-29 01:33:43 (64.1 MB/s) - ‘dev_cats.txt.1’ saved [7420/7420]\n",
            "\n",
            "--2022-12-29 01:33:43--  https://raw.githubusercontent.com/knapweedss/aspect-based-SA/main/files_for_cats/dev_pred_aspects_sent.txt\n",
            "Resolving raw.githubusercontent.com (raw.githubusercontent.com)... 185.199.108.133, 185.199.109.133, 185.199.110.133, ...\n",
            "Connecting to raw.githubusercontent.com (raw.githubusercontent.com)|185.199.108.133|:443... connected.\n",
            "HTTP request sent, awaiting response... 200 OK\n",
            "Length: 65866 (64K) [text/plain]\n",
            "Saving to: ‘dev_pred_aspects_sent.txt.1’\n",
            "\n",
            "dev_pred_aspects_se 100%[===================>]  64.32K  --.-KB/s    in 0.002s  \n",
            "\n",
            "2022-12-29 01:33:43 (36.7 MB/s) - ‘dev_pred_aspects_sent.txt.1’ saved [65866/65866]\n",
            "\n"
          ]
        }
      ]
    },
    {
      "cell_type": "markdown",
      "source": [
        "# Подсчитываем частотность "
      ],
      "metadata": {
        "id": "avXRSKZEr2xD"
      }
    },
    {
      "cell_type": "code",
      "source": [
        "import pandas as pd\n",
        "def compute_frequency(aspects, sentiments):\n",
        "    \"\"\"\n",
        "    Считаем количество упоминаний\n",
        "    для тональностей по категориям\n",
        "    \"\"\"\n",
        "    ids = aspects['text_id'].unique() # получаем массив\n",
        "    df_frames = [] # датафреймы, которые потом конкатенируем\n",
        "    for j in ids:\n",
        "        both = {'Whole':0, 'Service':0, 'Food':0, 'Interior':0, 'Price':0}\n",
        "        positive = {'Whole':0, 'Service':0, 'Food':0, 'Interior':0, 'Price':0}\n",
        "        negative = {'Whole':0, 'Service':0, 'Food':0, 'Interior':0, 'Price':0}\n",
        "        neutral = {'Whole':0, 'Service':0, 'Food':0, 'Interior':0, 'Price':0}\n",
        "        frequency = {'Whole':0, 'Service':0, 'Food':0, 'Interior':0, 'Price':0}\n",
        "\n",
        "        asp = aspects.loc[aspects['text_id']==j]\n",
        "        asp = asp.reset_index()\n",
        "        for i in range(len(asp)):\n",
        "            if asp['sentiment'][i] == 'neutral':\n",
        "                neutral[asp['category'][i]] +=1\n",
        "            if asp['sentiment'][i] == 'positive':\n",
        "                positive[asp['category'][i]] +=1\n",
        "            if asp['sentiment'][i] == 'negative':\n",
        "                negative[asp['category'][i]] +=1\n",
        "            if asp['sentiment'][i] == 'both':\n",
        "                both[asp['category'][i]] +=1\n",
        "        partition = sentiments.loc[sentiments['text_id']==j]\n",
        "        partition = partition.reset_index()\n",
        "        partition['positive'] = 0\n",
        "        partition['negative'] = 0\n",
        "        partition['both'] = 0\n",
        "        partition['neutral'] = 0\n",
        "        for i in range(5):\n",
        "            partition.at[i,'positive'] = positive[partition['category'][i]]\n",
        "            partition.at[i, 'negative'] = negative[partition['category'][i]]\n",
        "            partition.at[i, 'both'] = both[partition['category'][i]]\n",
        "            partition.at[i, 'neutral'] = neutral[partition['category'][i]]\n",
        "        df_frames.append(partition)\n",
        "    return pd.concat(df_frames)"
      ],
      "metadata": {
        "id": "dtoV-FE6Adky"
      },
      "execution_count": null,
      "outputs": []
    },
    {
      "cell_type": "code",
      "source": [
        "train_asp = pd.read_csv(\n",
        "    'TRAIN_ASP.txt', \n",
        "    delimiter='\\t', \n",
        "    names=['text_id', 'category', 'mention', 'start', 'end', 'sentiment']\n",
        ")\n",
        "train_sent = pd.read_csv(\n",
        "    'TRAIN_CATS.txt',\n",
        "    delimiter='\\t',\n",
        "    names=['text_id', 'category', 'sentiment'])\n",
        "train = compute_frequency(train_asp, train_sent)"
      ],
      "metadata": {
        "id": "2gBOd8q-Qb_5"
      },
      "execution_count": null,
      "outputs": []
    },
    {
      "cell_type": "code",
      "source": [
        "test = compute_frequency(pd.read_csv('dev_pred_aspects_sent.txt',  delimiter='\\t', names=['text_id', 'category', 'text', 'start', 'end', 'sentiment']), \n",
        "                            pd.read_csv('dev_cats.txt', delimiter='\\t', names=['text_id', 'category', 'sentiment']))"
      ],
      "metadata": {
        "id": "a0aMz86UQp09"
      },
      "execution_count": null,
      "outputs": []
    },
    {
      "cell_type": "markdown",
      "source": [
        "# Тестим классификаторы"
      ],
      "metadata": {
        "id": "NSBhynUHr6MH"
      }
    },
    {
      "cell_type": "code",
      "source": [
        "import numpy as np\n",
        "import pandas as pd\n",
        "import matplotlib.pyplot as plt\n",
        "import seaborn as sns\n",
        "%matplotlib inline"
      ],
      "metadata": {
        "id": "xz8eiEketlXO"
      },
      "execution_count": null,
      "outputs": []
    },
    {
      "cell_type": "code",
      "source": [
        "train"
      ],
      "metadata": {
        "colab": {
          "base_uri": "https://localhost:8080/",
          "height": 424
        },
        "id": "7cRlfUhtLMxG",
        "outputId": "6c6cc238-65af-4dec-b23e-55d2943cfe03"
      },
      "execution_count": 243,
      "outputs": [
        {
          "output_type": "execute_result",
          "data": {
            "text/plain": [
              "    index  text_id  category sentiment  positive  negative  both  neutral\n",
              "0       0     3976      Food  positive         2         0     0        1\n",
              "1       1     3976  Interior  positive         4         0     0        0\n",
              "2       2     3976     Price   absence         0         0     0        0\n",
              "3       3     3976     Whole  positive         2         0     0        5\n",
              "4       4     3976   Service  positive         4         0     1        1\n",
              "..    ...      ...       ...       ...       ...       ...   ...      ...\n",
              "0    1415    16630      Food  positive         1         0     0        0\n",
              "1    1416    16630  Interior  positive         1         0     0        0\n",
              "2    1417    16630     Price   absence         0         0     0        0\n",
              "3    1418    16630     Whole  positive         2         0     0        0\n",
              "4    1419    16630   Service  positive         3         0     0        0\n",
              "\n",
              "[1420 rows x 8 columns]"
            ],
            "text/html": [
              "\n",
              "  <div id=\"df-b81f3712-205a-4b40-8e92-82cf0643aae5\">\n",
              "    <div class=\"colab-df-container\">\n",
              "      <div>\n",
              "<style scoped>\n",
              "    .dataframe tbody tr th:only-of-type {\n",
              "        vertical-align: middle;\n",
              "    }\n",
              "\n",
              "    .dataframe tbody tr th {\n",
              "        vertical-align: top;\n",
              "    }\n",
              "\n",
              "    .dataframe thead th {\n",
              "        text-align: right;\n",
              "    }\n",
              "</style>\n",
              "<table border=\"1\" class=\"dataframe\">\n",
              "  <thead>\n",
              "    <tr style=\"text-align: right;\">\n",
              "      <th></th>\n",
              "      <th>index</th>\n",
              "      <th>text_id</th>\n",
              "      <th>category</th>\n",
              "      <th>sentiment</th>\n",
              "      <th>positive</th>\n",
              "      <th>negative</th>\n",
              "      <th>both</th>\n",
              "      <th>neutral</th>\n",
              "    </tr>\n",
              "  </thead>\n",
              "  <tbody>\n",
              "    <tr>\n",
              "      <th>0</th>\n",
              "      <td>0</td>\n",
              "      <td>3976</td>\n",
              "      <td>Food</td>\n",
              "      <td>positive</td>\n",
              "      <td>2</td>\n",
              "      <td>0</td>\n",
              "      <td>0</td>\n",
              "      <td>1</td>\n",
              "    </tr>\n",
              "    <tr>\n",
              "      <th>1</th>\n",
              "      <td>1</td>\n",
              "      <td>3976</td>\n",
              "      <td>Interior</td>\n",
              "      <td>positive</td>\n",
              "      <td>4</td>\n",
              "      <td>0</td>\n",
              "      <td>0</td>\n",
              "      <td>0</td>\n",
              "    </tr>\n",
              "    <tr>\n",
              "      <th>2</th>\n",
              "      <td>2</td>\n",
              "      <td>3976</td>\n",
              "      <td>Price</td>\n",
              "      <td>absence</td>\n",
              "      <td>0</td>\n",
              "      <td>0</td>\n",
              "      <td>0</td>\n",
              "      <td>0</td>\n",
              "    </tr>\n",
              "    <tr>\n",
              "      <th>3</th>\n",
              "      <td>3</td>\n",
              "      <td>3976</td>\n",
              "      <td>Whole</td>\n",
              "      <td>positive</td>\n",
              "      <td>2</td>\n",
              "      <td>0</td>\n",
              "      <td>0</td>\n",
              "      <td>5</td>\n",
              "    </tr>\n",
              "    <tr>\n",
              "      <th>4</th>\n",
              "      <td>4</td>\n",
              "      <td>3976</td>\n",
              "      <td>Service</td>\n",
              "      <td>positive</td>\n",
              "      <td>4</td>\n",
              "      <td>0</td>\n",
              "      <td>1</td>\n",
              "      <td>1</td>\n",
              "    </tr>\n",
              "    <tr>\n",
              "      <th>...</th>\n",
              "      <td>...</td>\n",
              "      <td>...</td>\n",
              "      <td>...</td>\n",
              "      <td>...</td>\n",
              "      <td>...</td>\n",
              "      <td>...</td>\n",
              "      <td>...</td>\n",
              "      <td>...</td>\n",
              "    </tr>\n",
              "    <tr>\n",
              "      <th>0</th>\n",
              "      <td>1415</td>\n",
              "      <td>16630</td>\n",
              "      <td>Food</td>\n",
              "      <td>positive</td>\n",
              "      <td>1</td>\n",
              "      <td>0</td>\n",
              "      <td>0</td>\n",
              "      <td>0</td>\n",
              "    </tr>\n",
              "    <tr>\n",
              "      <th>1</th>\n",
              "      <td>1416</td>\n",
              "      <td>16630</td>\n",
              "      <td>Interior</td>\n",
              "      <td>positive</td>\n",
              "      <td>1</td>\n",
              "      <td>0</td>\n",
              "      <td>0</td>\n",
              "      <td>0</td>\n",
              "    </tr>\n",
              "    <tr>\n",
              "      <th>2</th>\n",
              "      <td>1417</td>\n",
              "      <td>16630</td>\n",
              "      <td>Price</td>\n",
              "      <td>absence</td>\n",
              "      <td>0</td>\n",
              "      <td>0</td>\n",
              "      <td>0</td>\n",
              "      <td>0</td>\n",
              "    </tr>\n",
              "    <tr>\n",
              "      <th>3</th>\n",
              "      <td>1418</td>\n",
              "      <td>16630</td>\n",
              "      <td>Whole</td>\n",
              "      <td>positive</td>\n",
              "      <td>2</td>\n",
              "      <td>0</td>\n",
              "      <td>0</td>\n",
              "      <td>0</td>\n",
              "    </tr>\n",
              "    <tr>\n",
              "      <th>4</th>\n",
              "      <td>1419</td>\n",
              "      <td>16630</td>\n",
              "      <td>Service</td>\n",
              "      <td>positive</td>\n",
              "      <td>3</td>\n",
              "      <td>0</td>\n",
              "      <td>0</td>\n",
              "      <td>0</td>\n",
              "    </tr>\n",
              "  </tbody>\n",
              "</table>\n",
              "<p>1420 rows × 8 columns</p>\n",
              "</div>\n",
              "      <button class=\"colab-df-convert\" onclick=\"convertToInteractive('df-b81f3712-205a-4b40-8e92-82cf0643aae5')\"\n",
              "              title=\"Convert this dataframe to an interactive table.\"\n",
              "              style=\"display:none;\">\n",
              "        \n",
              "  <svg xmlns=\"http://www.w3.org/2000/svg\" height=\"24px\"viewBox=\"0 0 24 24\"\n",
              "       width=\"24px\">\n",
              "    <path d=\"M0 0h24v24H0V0z\" fill=\"none\"/>\n",
              "    <path d=\"M18.56 5.44l.94 2.06.94-2.06 2.06-.94-2.06-.94-.94-2.06-.94 2.06-2.06.94zm-11 1L8.5 8.5l.94-2.06 2.06-.94-2.06-.94L8.5 2.5l-.94 2.06-2.06.94zm10 10l.94 2.06.94-2.06 2.06-.94-2.06-.94-.94-2.06-.94 2.06-2.06.94z\"/><path d=\"M17.41 7.96l-1.37-1.37c-.4-.4-.92-.59-1.43-.59-.52 0-1.04.2-1.43.59L10.3 9.45l-7.72 7.72c-.78.78-.78 2.05 0 2.83L4 21.41c.39.39.9.59 1.41.59.51 0 1.02-.2 1.41-.59l7.78-7.78 2.81-2.81c.8-.78.8-2.07 0-2.86zM5.41 20L4 18.59l7.72-7.72 1.47 1.35L5.41 20z\"/>\n",
              "  </svg>\n",
              "      </button>\n",
              "      \n",
              "  <style>\n",
              "    .colab-df-container {\n",
              "      display:flex;\n",
              "      flex-wrap:wrap;\n",
              "      gap: 12px;\n",
              "    }\n",
              "\n",
              "    .colab-df-convert {\n",
              "      background-color: #E8F0FE;\n",
              "      border: none;\n",
              "      border-radius: 50%;\n",
              "      cursor: pointer;\n",
              "      display: none;\n",
              "      fill: #1967D2;\n",
              "      height: 32px;\n",
              "      padding: 0 0 0 0;\n",
              "      width: 32px;\n",
              "    }\n",
              "\n",
              "    .colab-df-convert:hover {\n",
              "      background-color: #E2EBFA;\n",
              "      box-shadow: 0px 1px 2px rgba(60, 64, 67, 0.3), 0px 1px 3px 1px rgba(60, 64, 67, 0.15);\n",
              "      fill: #174EA6;\n",
              "    }\n",
              "\n",
              "    [theme=dark] .colab-df-convert {\n",
              "      background-color: #3B4455;\n",
              "      fill: #D2E3FC;\n",
              "    }\n",
              "\n",
              "    [theme=dark] .colab-df-convert:hover {\n",
              "      background-color: #434B5C;\n",
              "      box-shadow: 0px 1px 3px 1px rgba(0, 0, 0, 0.15);\n",
              "      filter: drop-shadow(0px 1px 2px rgba(0, 0, 0, 0.3));\n",
              "      fill: #FFFFFF;\n",
              "    }\n",
              "  </style>\n",
              "\n",
              "      <script>\n",
              "        const buttonEl =\n",
              "          document.querySelector('#df-b81f3712-205a-4b40-8e92-82cf0643aae5 button.colab-df-convert');\n",
              "        buttonEl.style.display =\n",
              "          google.colab.kernel.accessAllowed ? 'block' : 'none';\n",
              "\n",
              "        async function convertToInteractive(key) {\n",
              "          const element = document.querySelector('#df-b81f3712-205a-4b40-8e92-82cf0643aae5');\n",
              "          const dataTable =\n",
              "            await google.colab.kernel.invokeFunction('convertToInteractive',\n",
              "                                                     [key], {});\n",
              "          if (!dataTable) return;\n",
              "\n",
              "          const docLinkHtml = 'Like what you see? Visit the ' +\n",
              "            '<a target=\"_blank\" href=https://colab.research.google.com/notebooks/data_table.ipynb>data table notebook</a>'\n",
              "            + ' to learn more about interactive tables.';\n",
              "          element.innerHTML = '';\n",
              "          dataTable['output_type'] = 'display_data';\n",
              "          await google.colab.output.renderOutput(dataTable, element);\n",
              "          const docLink = document.createElement('div');\n",
              "          docLink.innerHTML = docLinkHtml;\n",
              "          element.appendChild(docLink);\n",
              "        }\n",
              "      </script>\n",
              "    </div>\n",
              "  </div>\n",
              "  "
            ]
          },
          "metadata": {},
          "execution_count": 243
        }
      ]
    },
    {
      "cell_type": "code",
      "source": [
        "train_m = train[['category','sentiment', 'positive', 'negative',\t'both',\t'neutral']]"
      ],
      "metadata": {
        "id": "lkKGd3o8Lg9O"
      },
      "execution_count": 245,
      "outputs": []
    },
    {
      "cell_type": "code",
      "source": [
        "sns.countplot(train['sentiment'],label='count',)"
      ],
      "metadata": {
        "colab": {
          "base_uri": "https://localhost:8080/",
          "height": 297
        },
        "id": "uv8RG388MlHF",
        "outputId": "1de2b3d2-e439-44ff-b7bd-d339da33c276"
      },
      "execution_count": 249,
      "outputs": [
        {
          "output_type": "execute_result",
          "data": {
            "text/plain": [
              "<matplotlib.axes._subplots.AxesSubplot at 0x7fd4979e2910>"
            ]
          },
          "metadata": {},
          "execution_count": 249
        },
        {
          "output_type": "display_data",
          "data": {
            "text/plain": [
              "<Figure size 432x288 with 1 Axes>"
            ],
            "image/png": "[encoded data removed]"
          },
          "metadata": {
            "needs_background": "light"
          }
        }
      ]
    },
    {
      "cell_type": "code",
      "source": [
        "plt.figure(figsize=(20,10)) \n",
        "sns.heatmap(train_m.corr(), annot=True) \n",
        "plt.show()"
      ],
      "metadata": {
        "colab": {
          "base_uri": "https://localhost:8080/",
          "height": 499
        },
        "id": "8UIRKInKLFmm",
        "outputId": "c86209ea-e419-4060-fad8-df47e5f8d6b2"
      },
      "execution_count": 253,
      "outputs": [
        {
          "output_type": "display_data",
          "data": {
            "text/plain": [
              "<Figure size 1440x720 with 2 Axes>"
            ],
            "image/png": "[encoded data removed]"
          },
          "metadata": {
            "needs_background": "light"
          }
        }
      ]
    },
    {
      "cell_type": "code",
      "source": [
        "from sklearn.model_selection import train_test_split\n",
        "from sklearn import preprocessing\n",
        "LE = preprocessing.LabelEncoder()\n",
        "y_train = LE.fit_transform(train['sentiment'])"
      ],
      "metadata": {
        "id": "PcggfkOVXbNU"
      },
      "execution_count": null,
      "outputs": []
    },
    {
      "cell_type": "code",
      "source": [
        "features_columns = list(test.keys()[4::])\n",
        "features_columns"
      ],
      "metadata": {
        "colab": {
          "base_uri": "https://localhost:8080/"
        },
        "id": "pSquTaAnrMWx",
        "outputId": "be2ba743-31e3-4051-ad33-d9a0bcb6f6e8"
      },
      "execution_count": null,
      "outputs": [
        {
          "output_type": "execute_result",
          "data": {
            "text/plain": [
              "['positive', 'negative', 'both', 'neutral']"
            ]
          },
          "metadata": {},
          "execution_count": 197
        }
      ]
    },
    {
      "cell_type": "code",
      "source": [
        "from sklearn.model_selection import cross_val_score, GridSearchCV\n",
        "from sklearn.model_selection import GridSearchCV"
      ],
      "metadata": {
        "id": "g8hRGdwXudtr"
      },
      "execution_count": null,
      "outputs": []
    },
    {
      "cell_type": "markdown",
      "source": [
        "# Random Forest + GridSearchcv"
      ],
      "metadata": {
        "id": "cepuj9uvzwHM"
      }
    },
    {
      "cell_type": "code",
      "source": [
        "X_train = train[features_columns]"
      ],
      "metadata": {
        "id": "kHQAybMZz_lK"
      },
      "execution_count": null,
      "outputs": []
    },
    {
      "cell_type": "code",
      "source": [
        "from sklearn.ensemble import RandomForestClassifier"
      ],
      "metadata": {
        "id": "vodIdMSXz5nD"
      },
      "execution_count": null,
      "outputs": []
    },
    {
      "cell_type": "code",
      "source": [
        "params = {\n",
        "    'criterion':['gini','entropy'],\n",
        "    'n_estimators':[20,50,75,100],\n",
        "    'max_features':['auto','sqrt','log2'],\n",
        "    'class_weight':['balanced','balanced_subsample']\n",
        "}"
      ],
      "metadata": {
        "id": "J0XHXUJxzxHW"
      },
      "execution_count": null,
      "outputs": []
    },
    {
      "cell_type": "code",
      "source": [
        "rf = RandomForestClassifier()\n",
        "grid = GridSearchCV(rf, params, cv=3, scoring='accuracy')\n",
        "grid.fit(X_train, y_train)\n",
        "print(grid.best_params_)\n",
        "print(\"Accuracy:\"+ str(grid.best_score_))"
      ],
      "metadata": {
        "colab": {
          "base_uri": "https://localhost:8080/"
        },
        "id": "rNBh2Vtfzy3H",
        "outputId": "4df884a3-3c20-4a89-fb72-1041d7d175d9"
      },
      "execution_count": null,
      "outputs": [
        {
          "output_type": "stream",
          "name": "stdout",
          "text": [
            "{'class_weight': 'balanced_subsample', 'criterion': 'gini', 'max_features': 'log2', 'n_estimators': 20}\n",
            "Accuracy:0.8077715631439505\n"
          ]
        }
      ]
    },
    {
      "cell_type": "markdown",
      "source": [
        "# SVM + GridSearchCV"
      ],
      "metadata": {
        "id": "b8uptWDyu1lG"
      }
    },
    {
      "cell_type": "code",
      "source": [
        "from sklearn import svm\n",
        "clf = svm.SVC()\n",
        "parameters_svm = {'kernel': ('linear', 'poly', 'rbf', 'sigmoid'),\n",
        "                  'gamma': ('scale', 'auto'),\n",
        "                  'shrinking': (True, False),\n",
        "               'class_weight': ('balanced', None),\n",
        "                 'decision_function_shape': ('ovo', 'ovr')}\n",
        "\n",
        "\n",
        "grid_search_SVM = GridSearchCV(clf, parameters_svm, n_jobs=-1, scoring = \"f1_weighted\")\n",
        "grid_search_SVM = grid_search_SVM.fit(X_train, y_train)\n",
        "\n",
        "\n",
        "print(grid_search_SVM.best_score_)\n",
        "print(grid_search_SVM.best_params_)"
      ],
      "metadata": {
        "colab": {
          "base_uri": "https://localhost:8080/"
        },
        "id": "CuJlXdZsrwfV",
        "outputId": "e604a184-71d6-447c-9943-794634cb5ba9"
      },
      "execution_count": null,
      "outputs": [
        {
          "output_type": "stream",
          "name": "stdout",
          "text": [
            "0.8199798171305488\n",
            "{'class_weight': 'balanced', 'decision_function_shape': 'ovo', 'gamma': 'scale', 'kernel': 'linear', 'shrinking': True}\n"
          ]
        }
      ]
    },
    {
      "cell_type": "code",
      "source": [
        "y_test = LE.transform(test['sentiment'])\n",
        "y_pred = grid_search_SVM.predict(test[features_columns])"
      ],
      "metadata": {
        "id": "hYQXdV4juMb4"
      },
      "execution_count": null,
      "outputs": []
    },
    {
      "cell_type": "code",
      "source": [
        "from sklearn.metrics import confusion_matrix,classification_report,accuracy_score\n",
        "cm = confusion_matrix(y_test,y_pred)\n",
        "sns.heatmap(cm,annot=True,cmap='viridis')"
      ],
      "metadata": {
        "colab": {
          "base_uri": "https://localhost:8080/",
          "height": 283
        },
        "id": "pDBIYI9BuLvH",
        "outputId": "cc0fd7eb-bc5b-497f-f580-bebbe47b4d4a"
      },
      "execution_count": 233,
      "outputs": [
        {
          "output_type": "execute_result",
          "data": {
            "text/plain": [
              "<matplotlib.axes._subplots.AxesSubplot at 0x7fd497be8250>"
            ]
          },
          "metadata": {},
          "execution_count": 233
        },
        {
          "output_type": "display_data",
          "data": {
            "text/plain": [
              "<Figure size 432x288 with 2 Axes>"
            ],
            "image/png": "[encoded data removed]"
          },
          "metadata": {
            "needs_background": "light"
          }
        }
      ]
    },
    {
      "cell_type": "code",
      "source": [
        "print(classification_report(y_test,y_pred))"
      ],
      "metadata": {
        "colab": {
          "base_uri": "https://localhost:8080/"
        },
        "id": "x6HCveN9uy-Q",
        "outputId": "f1107b64-6af1-4417-a481-dcdaae7732f7"
      },
      "execution_count": null,
      "outputs": [
        {
          "output_type": "stream",
          "name": "stdout",
          "text": [
            "              precision    recall  f1-score   support\n",
            "\n",
            "           0       0.84      0.85      0.85        55\n",
            "           1       0.22      0.40      0.29        40\n",
            "           2       0.29      0.19      0.23        21\n",
            "           3       0.20      0.50      0.29         4\n",
            "           4       0.85      0.73      0.79       235\n",
            "\n",
            "    accuracy                           0.68       355\n",
            "   macro avg       0.48      0.54      0.49       355\n",
            "weighted avg       0.74      0.68      0.70       355\n",
            "\n"
          ]
        }
      ]
    },
    {
      "cell_type": "markdown",
      "source": [
        "# LogisticRegression + GridSearchCV"
      ],
      "metadata": {
        "id": "udaVT2WezkOk"
      }
    },
    {
      "cell_type": "markdown",
      "source": [
        "Обычно в задачах классификации лог. рег. показывает хорошие результаты, поэтому будем использовать пайплайн и посмотрим подробнее на параметры"
      ],
      "metadata": {
        "id": "H5Vt8MvP359t"
      }
    },
    {
      "cell_type": "code",
      "source": [
        "from sklearn import linear_model, decomposition, datasets\n",
        "from sklearn.pipeline import Pipeline\n",
        "from sklearn.preprocessing import StandardScaler\n",
        "std_slc = StandardScaler()"
      ],
      "metadata": {
        "id": "JIS_pjn2zjtd"
      },
      "execution_count": null,
      "outputs": []
    },
    {
      "cell_type": "code",
      "source": [
        "std_slc = StandardScaler()"
      ],
      "metadata": {
        "id": "EF9Kz52s1r4T"
      },
      "execution_count": null,
      "outputs": []
    },
    {
      "cell_type": "code",
      "source": [
        "pca = decomposition.PCA()"
      ],
      "metadata": {
        "id": "dvl-sh7O1sh8"
      },
      "execution_count": null,
      "outputs": []
    },
    {
      "cell_type": "code",
      "source": [
        "logistic_Reg = linear_model.LogisticRegression()"
      ],
      "metadata": {
        "id": "H77Xal6h1uMI"
      },
      "execution_count": null,
      "outputs": []
    },
    {
      "cell_type": "code",
      "source": [
        "pipe = Pipeline(steps=[('std_slc', std_slc),\n",
        "                           ('pca', pca),\n",
        "                           ('logistic_Reg', logistic_Reg)])"
      ],
      "metadata": {
        "id": "WG9JLFgV1vo6"
      },
      "execution_count": null,
      "outputs": []
    },
    {
      "cell_type": "code",
      "source": [
        "n_components = list(range(1,X_train.shape[1]+1,1))"
      ],
      "metadata": {
        "id": "Z6axrNoe1ybA"
      },
      "execution_count": null,
      "outputs": []
    },
    {
      "cell_type": "code",
      "source": [
        "C = np.logspace(-4, 4, 50)\n",
        "penalty = ['l1', 'l2']"
      ],
      "metadata": {
        "id": "xjwx9XtE12ko"
      },
      "execution_count": null,
      "outputs": []
    },
    {
      "cell_type": "code",
      "source": [
        "parameters = dict(pca__n_components=n_components,\n",
        "                      logistic_Reg__C=C,\n",
        "                      logistic_Reg__penalty=penalty)"
      ],
      "metadata": {
        "id": "E3U4tmS-14xj"
      },
      "execution_count": null,
      "outputs": []
    },
    {
      "cell_type": "code",
      "source": [
        "import warnings\n",
        "warnings.filterwarnings('ignore')\n",
        "clf_GS = GridSearchCV(pipe, parameters)\n",
        "clf_GS.fit(X_train, y_train)"
      ],
      "metadata": {
        "colab": {
          "base_uri": "https://localhost:8080/"
        },
        "id": "CPal8bNg169y",
        "outputId": "8815f054-056d-41e7-92f0-32e60803fddb"
      },
      "execution_count": null,
      "outputs": [
        {
          "output_type": "execute_result",
          "data": {
            "text/plain": [
              "GridSearchCV(estimator=Pipeline(steps=[('std_slc', StandardScaler()),\n",
              "                                       ('pca', PCA()),\n",
              "                                       ('logistic_Reg', LogisticRegression())]),\n",
              "             param_grid={'logistic_Reg__C': array([1.00000000e-04, 1.45634848e-04, 2.12095089e-04, 3.08884360e-04,\n",
              "       4.49843267e-04, 6.55128557e-04, 9.54095476e-04, 1.38949549e-03,\n",
              "       2.02358965e-03, 2.94705170e-03, 4.29193426e-03, 6.25055193e-03,\n",
              "       9.10298178e...\n",
              "       3.72759372e+00, 5.42867544e+00, 7.90604321e+00, 1.15139540e+01,\n",
              "       1.67683294e+01, 2.44205309e+01, 3.55648031e+01, 5.17947468e+01,\n",
              "       7.54312006e+01, 1.09854114e+02, 1.59985872e+02, 2.32995181e+02,\n",
              "       3.39322177e+02, 4.94171336e+02, 7.19685673e+02, 1.04811313e+03,\n",
              "       1.52641797e+03, 2.22299648e+03, 3.23745754e+03, 4.71486636e+03,\n",
              "       6.86648845e+03, 1.00000000e+04]),\n",
              "                         'logistic_Reg__penalty': ['l1', 'l2'],\n",
              "                         'pca__n_components': [1, 2, 3, 4]})"
            ]
          },
          "metadata": {},
          "execution_count": 215
        }
      ]
    },
    {
      "cell_type": "code",
      "source": [
        "print(clf_GS.best_params_)\n",
        "print(clf_GS.best_score_)"
      ],
      "metadata": {
        "colab": {
          "base_uri": "https://localhost:8080/"
        },
        "id": "I8OgB3JO22QE",
        "outputId": "bb33b8a7-4ace-4c2a-ae35-e4687b55d6ff"
      },
      "execution_count": null,
      "outputs": [
        {
          "output_type": "stream",
          "name": "stdout",
          "text": [
            "{'logistic_Reg__C': 0.12648552168552957, 'logistic_Reg__penalty': 'l2', 'pca__n_components': 4}\n",
            "0.8246478873239436\n"
          ]
        }
      ]
    },
    {
      "cell_type": "code",
      "source": [
        "print('Best Penalty:', clf_GS.best_estimator_.get_params()['logistic_Reg__penalty'])\n",
        "print('Best C:', clf_GS.best_estimator_.get_params()['logistic_Reg__C'])\n",
        "print('Best Number Of Components:', clf_GS.best_estimator_.get_params()['pca__n_components'])\n",
        "print(); print(clf_GS.best_estimator_.get_params()['logistic_Reg'])"
      ],
      "metadata": {
        "colab": {
          "base_uri": "https://localhost:8080/"
        },
        "id": "pgqsrXjG2Dee",
        "outputId": "41c544e5-4abc-4d59-e030-3b3a9b9fb91e"
      },
      "execution_count": null,
      "outputs": [
        {
          "output_type": "stream",
          "name": "stdout",
          "text": [
            "Best Penalty: l2\n",
            "Best C: 0.12648552168552957\n",
            "Best Number Of Components: 4\n",
            "\n",
            "LogisticRegression(C=0.12648552168552957)\n"
          ]
        }
      ]
    },
    {
      "cell_type": "markdown",
      "source": [
        "# KNN + GridSearchCV"
      ],
      "metadata": {
        "id": "9HZa0yTH3eW1"
      }
    },
    {
      "cell_type": "code",
      "source": [
        "from sklearn.neighbors import KNeighborsClassifier\n",
        "estimator_KNN = KNeighborsClassifier(algorithm='auto')\n",
        "parameters_KNN = {\n",
        "    'n_neighbors': (1,10, 1),\n",
        "    'leaf_size': (20,40,1),\n",
        "    'p': (1,2),\n",
        "    'weights': ('uniform', 'distance'),\n",
        "    'metric': ('minkowski', 'chebyshev')}\n",
        "\n",
        "grid_search_KNN = GridSearchCV(\n",
        "    estimator=estimator_KNN,\n",
        "    param_grid=parameters_KNN,\n",
        "    scoring = 'accuracy',\n",
        "    n_jobs = -1,\n",
        "    cv = 5)\n",
        "\n",
        "grid_search_KNN.fit(X_train, y_train)\n",
        "\n",
        "print(grid_search_KNN.best_params_)\n",
        "print(grid_search_KNN.best_score_)"
      ],
      "metadata": {
        "colab": {
          "base_uri": "https://localhost:8080/"
        },
        "id": "JXyNT6K13d4H",
        "outputId": "185f0453-79c1-4a64-efd3-9f322bd8ae7c"
      },
      "execution_count": null,
      "outputs": [
        {
          "output_type": "stream",
          "name": "stdout",
          "text": [
            "{'leaf_size': 20, 'metric': 'minkowski', 'n_neighbors': 10, 'p': 2, 'weights': 'uniform'}\n",
            "0.8169014084507042\n"
          ]
        }
      ]
    },
    {
      "cell_type": "markdown",
      "source": [
        "**Лучшие результаты показывает логистическая регрессия**"
      ],
      "metadata": {
        "id": "_p44hibx3oTI"
      }
    },
    {
      "cell_type": "markdown",
      "source": [
        "# Обучение"
      ],
      "metadata": {
        "id": "eLjCJ7lF4omD"
      }
    },
    {
      "cell_type": "code",
      "source": [
        "lg = clf_GS.best_estimator_.get_params()['logistic_Reg']"
      ],
      "metadata": {
        "id": "cDAvQXOK311K"
      },
      "execution_count": null,
      "outputs": []
    },
    {
      "cell_type": "code",
      "source": [
        "lg.fit(X_train, y_train)"
      ],
      "metadata": {
        "colab": {
          "base_uri": "https://localhost:8080/"
        },
        "id": "jP20_aqh4QQX",
        "outputId": "f57b0459-99af-46f1-a424-e0e9d7191fd4"
      },
      "execution_count": null,
      "outputs": [
        {
          "output_type": "execute_result",
          "data": {
            "text/plain": [
              "LogisticRegression(C=0.12648552168552957)"
            ]
          },
          "metadata": {},
          "execution_count": 220
        }
      ]
    },
    {
      "cell_type": "code",
      "source": [
        "y_pred = lg.predict(test[features_columns])\n",
        "accuracy_score(y_test, y_pred)"
      ],
      "metadata": {
        "colab": {
          "base_uri": "https://localhost:8080/"
        },
        "id": "30lp-8vt4TP9",
        "outputId": "50babc77-c5bb-4d2b-a952-077a874deaed"
      },
      "execution_count": null,
      "outputs": [
        {
          "output_type": "execute_result",
          "data": {
            "text/plain": [
              "0.7718309859154929"
            ]
          },
          "metadata": {},
          "execution_count": 221
        }
      ]
    },
    {
      "cell_type": "code",
      "source": [
        "X = pd.read_csv(\n",
        "    'dev_pred_aspects_sent.txt', \n",
        "    delimiter='\\t', \n",
        "    names=['text_id', 'category', 'mention', 'start', 'end', 'sentiment']\n",
        ")\n",
        "y = pd.read_csv('dev_cats.txt', delimiter='\\t', names=['text_id', 'category', 'sentiment'])"
      ],
      "metadata": {
        "id": "A1iH3Dfe4Wwn"
      },
      "execution_count": null,
      "outputs": []
    },
    {
      "cell_type": "code",
      "source": [
        "res = compute_frequency(X, y)"
      ],
      "metadata": {
        "id": "-J_2RhXs4qrh"
      },
      "execution_count": null,
      "outputs": []
    },
    {
      "cell_type": "code",
      "source": [
        "y_pred = lg.predict(res[features_columns])"
      ],
      "metadata": {
        "id": "n_TdfpxQ4x7y"
      },
      "execution_count": null,
      "outputs": []
    },
    {
      "cell_type": "code",
      "source": [
        "def norm_result(X_, y_):\n",
        "    in_df = X_\n",
        "    y_ = LE.inverse_transform(y_)\n",
        "    X_['sentiment'] = 0\n",
        "    X_['sentiment'] = y_\n",
        "    X_.drop(['positive', 'negative', 'both', 'neutral', 'index'], axis=1, inplace=True)\n",
        "    return X_"
      ],
      "metadata": {
        "id": "Oskoy9jg45tC"
      },
      "execution_count": null,
      "outputs": []
    },
    {
      "cell_type": "code",
      "source": [
        "final = norm_result(res, y_pred)"
      ],
      "metadata": {
        "id": "57cjJjsK46XA"
      },
      "execution_count": null,
      "outputs": []
    },
    {
      "cell_type": "code",
      "source": [
        "final.to_csv('dev_pred_cats.txt', sep='\\t', header=False, index=False)"
      ],
      "metadata": {
        "id": "BlVYZcpb6-3o"
      },
      "execution_count": null,
      "outputs": []
    },
    {
      "cell_type": "code",
      "source": [
        "import pickle\n",
        "pickle.dump(lg, open('part3.sav', 'wb'))"
      ],
      "metadata": {
        "id": "yKL-1mJEHMho"
      },
      "execution_count": null,
      "outputs": []
    },
    {
      "cell_type": "markdown",
      "source": [
        "# Оценка"
      ],
      "metadata": {
        "id": "MYPaTnqg8OUx"
      }
    },
    {
      "cell_type": "code",
      "source": [
        "gold_test_cats_path = \"dev_cats.txt\"\n",
        "pred_test_cats_path = \"dev_pred_cats.txt\""
      ],
      "metadata": {
        "id": "QPbi_O2F8Pdg"
      },
      "execution_count": null,
      "outputs": []
    },
    {
      "cell_type": "code",
      "source": [
        "with open(gold_test_cats_path) as gc, open(pred_test_cats_path) as pc:\n",
        "    gold_labels = set(gc.readlines())\n",
        "    pred_labels = set(pc.readlines())\n",
        "    print(\n",
        "        \"Overall sentiment accuracy:\",\n",
        "        len(gold_labels & pred_labels) / len(gold_labels)\n",
        "    )"
      ],
      "metadata": {
        "colab": {
          "base_uri": "https://localhost:8080/"
        },
        "id": "Aq09VwUM8Tmy",
        "outputId": "de4536f7-8925-4e8d-a308-54dbea403dc7"
      },
      "execution_count": null,
      "outputs": [
        {
          "output_type": "stream",
          "name": "stdout",
          "text": [
            "Overall sentiment accuracy: 0.7718309859154929\n"
          ]
        }
      ]
    }
  ]
}